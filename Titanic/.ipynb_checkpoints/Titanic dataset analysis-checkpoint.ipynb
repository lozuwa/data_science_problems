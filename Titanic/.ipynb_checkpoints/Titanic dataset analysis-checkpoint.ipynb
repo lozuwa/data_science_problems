{
 "cells": [
  {
   "cell_type": "markdown",
   "metadata": {},
   "source": [
    "## Data Science 101\n",
    "There is a procedure in data science:<br><br>\n",
    "<b>1.</b> Define your problem<br><br>\n",
    "<b>2.</b> Data wrangling<br>\n",
    "...<b>2.1.</b> Get the data<br>\n",
    "...<b>2.</b> Clean the data<br><br>\n",
    "<b>3.</b> Data exploration<br>\n",
    "...<b>3.1</b> Build intuitions<br>\n",
    "...<b>3.2</b> Find patterns<br><br>\n",
    "<b>4.</b> Draw conclusions<br>\n",
    "...<b>4.1</b> Usually machine learning or statistical learning<br><br>\n",
    "<b>5.</b> Communication phase<br>\n",
    "...<b>5.1</b> Make plots so people can understand your results<br><br>\n",
    "## Titanic Dataset\n",
    "(Copied from https://www.kaggle.com/c/titanic/data) <br>\n",
    "\"The training set should be used to build your machine learning models. For the training set, we provide the outcome (also known as the “ground truth”) for each passenger. Your model will be based on “features” like passengers’ gender and class. You can also use feature engineering to create new features.<br><br>\n",
    "The test set should be used to see how well your model performs on unseen data. For the test set, we do not provide the ground truth for each passenger. It is your job to predict these outcomes. For each passenger in the test set, use the model you trained to predict whether or not they survived the sinking of the Titanic.<br><br>\n",
    "We also include gender_submission.csv, a set of predictions that assume all and only female passengers survive, as an example of what a submission file should look like.\""
   ]
  },
  {
   "cell_type": "code",
   "execution_count": 68,
   "metadata": {
    "collapsed": true
   },
   "outputs": [],
   "source": [
    "# Libraries\n",
    "import pandas as pd\n",
    "import numpy as np\n",
    "import matplotlib.pyplot as plt"
   ]
  },
  {
   "cell_type": "code",
   "execution_count": 69,
   "metadata": {
    "collapsed": true
   },
   "outputs": [],
   "source": [
    "# Load the data into a dataframe\n",
    "original_df = pd.read_csv(\"train.csv\")"
   ]
  },
  {
   "cell_type": "code",
   "execution_count": 70,
   "metadata": {},
   "outputs": [
    {
     "data": {
      "text/html": [
       "<div>\n",
       "<style>\n",
       "    .dataframe thead tr:only-child th {\n",
       "        text-align: right;\n",
       "    }\n",
       "\n",
       "    .dataframe thead th {\n",
       "        text-align: left;\n",
       "    }\n",
       "\n",
       "    .dataframe tbody tr th {\n",
       "        vertical-align: top;\n",
       "    }\n",
       "</style>\n",
       "<table border=\"1\" class=\"dataframe\">\n",
       "  <thead>\n",
       "    <tr style=\"text-align: right;\">\n",
       "      <th></th>\n",
       "      <th>PassengerId</th>\n",
       "      <th>Survived</th>\n",
       "      <th>Pclass</th>\n",
       "      <th>Name</th>\n",
       "      <th>Sex</th>\n",
       "      <th>Age</th>\n",
       "      <th>SibSp</th>\n",
       "      <th>Parch</th>\n",
       "      <th>Ticket</th>\n",
       "      <th>Fare</th>\n",
       "      <th>Cabin</th>\n",
       "      <th>Embarked</th>\n",
       "    </tr>\n",
       "  </thead>\n",
       "  <tbody>\n",
       "    <tr>\n",
       "      <th>0</th>\n",
       "      <td>1</td>\n",
       "      <td>0</td>\n",
       "      <td>3</td>\n",
       "      <td>Braund, Mr. Owen Harris</td>\n",
       "      <td>male</td>\n",
       "      <td>22.0</td>\n",
       "      <td>1</td>\n",
       "      <td>0</td>\n",
       "      <td>A/5 21171</td>\n",
       "      <td>7.2500</td>\n",
       "      <td>NaN</td>\n",
       "      <td>S</td>\n",
       "    </tr>\n",
       "    <tr>\n",
       "      <th>1</th>\n",
       "      <td>2</td>\n",
       "      <td>1</td>\n",
       "      <td>1</td>\n",
       "      <td>Cumings, Mrs. John Bradley (Florence Briggs Th...</td>\n",
       "      <td>female</td>\n",
       "      <td>38.0</td>\n",
       "      <td>1</td>\n",
       "      <td>0</td>\n",
       "      <td>PC 17599</td>\n",
       "      <td>71.2833</td>\n",
       "      <td>C85</td>\n",
       "      <td>C</td>\n",
       "    </tr>\n",
       "    <tr>\n",
       "      <th>2</th>\n",
       "      <td>3</td>\n",
       "      <td>1</td>\n",
       "      <td>3</td>\n",
       "      <td>Heikkinen, Miss. Laina</td>\n",
       "      <td>female</td>\n",
       "      <td>26.0</td>\n",
       "      <td>0</td>\n",
       "      <td>0</td>\n",
       "      <td>STON/O2. 3101282</td>\n",
       "      <td>7.9250</td>\n",
       "      <td>NaN</td>\n",
       "      <td>S</td>\n",
       "    </tr>\n",
       "  </tbody>\n",
       "</table>\n",
       "</div>"
      ],
      "text/plain": [
       "   PassengerId  Survived  Pclass  \\\n",
       "0            1         0       3   \n",
       "1            2         1       1   \n",
       "2            3         1       3   \n",
       "\n",
       "                                                Name     Sex   Age  SibSp  \\\n",
       "0                            Braund, Mr. Owen Harris    male  22.0      1   \n",
       "1  Cumings, Mrs. John Bradley (Florence Briggs Th...  female  38.0      1   \n",
       "2                             Heikkinen, Miss. Laina  female  26.0      0   \n",
       "\n",
       "   Parch            Ticket     Fare Cabin Embarked  \n",
       "0      0         A/5 21171   7.2500   NaN        S  \n",
       "1      0          PC 17599  71.2833   C85        C  \n",
       "2      0  STON/O2. 3101282   7.9250   NaN        S  "
      ]
     },
     "execution_count": 70,
     "metadata": {},
     "output_type": "execute_result"
    }
   ],
   "source": [
    "# I want to explore the data before anything\n",
    "original_df.head(3)"
   ]
  },
  {
   "cell_type": "markdown",
   "metadata": {},
   "source": [
    "The first thing I work in is defining the type of variable that we are dealing with in each feature. I can use pandas' function df.dtypes"
   ]
  },
  {
   "cell_type": "code",
   "execution_count": 71,
   "metadata": {},
   "outputs": [
    {
     "data": {
      "text/plain": [
       "PassengerId      int64\n",
       "Survived         int64\n",
       "Pclass           int64\n",
       "Name            object\n",
       "Sex             object\n",
       "Age            float64\n",
       "SibSp            int64\n",
       "Parch            int64\n",
       "Ticket          object\n",
       "Fare           float64\n",
       "Cabin           object\n",
       "Embarked        object\n",
       "dtype: object"
      ]
     },
     "execution_count": 71,
     "metadata": {},
     "output_type": "execute_result"
    }
   ],
   "source": [
    "original_df.dtypes"
   ]
  },
  {
   "cell_type": "markdown",
   "metadata": {},
   "source": [
    "Once I know if the type of variable that each feature use, I can select the features that I think will not contribute to the problem. \n",
    "For example:\n",
    "* PassengerId: Not a feature that we can use, it depicts anything important. \n",
    "* Name: Not an important feature, we don't care. \n",
    "* Ticket: Not important as well. \n",
    "* Fare: It seems it is not important. We will investigate later.\n",
    "* Cabin: Not important.\n",
    "* Embarked: Not important.<br><br>\n",
    "I will remove these features and model a prediction algorithm with the features that are left. "
   ]
  },
  {
   "cell_type": "code",
   "execution_count": 72,
   "metadata": {},
   "outputs": [],
   "source": [
    "# I can use the pd.drop function that receives a list of names that depict the columns and an axis value \n",
    "# that tells the function to drop the columns axis \n",
    "df = original_df.drop([\"PassengerId\", \"Name\", \"Ticket\", \"Fare\", \"Cabin\", \"Embarked\"], axis = 1)"
   ]
  },
  {
   "cell_type": "code",
   "execution_count": 75,
   "metadata": {},
   "outputs": [
    {
     "data": {
      "text/html": [
       "<div>\n",
       "<style>\n",
       "    .dataframe thead tr:only-child th {\n",
       "        text-align: right;\n",
       "    }\n",
       "\n",
       "    .dataframe thead th {\n",
       "        text-align: left;\n",
       "    }\n",
       "\n",
       "    .dataframe tbody tr th {\n",
       "        vertical-align: top;\n",
       "    }\n",
       "</style>\n",
       "<table border=\"1\" class=\"dataframe\">\n",
       "  <thead>\n",
       "    <tr style=\"text-align: right;\">\n",
       "      <th></th>\n",
       "      <th>Survived</th>\n",
       "      <th>Pclass</th>\n",
       "      <th>Sex</th>\n",
       "      <th>Age</th>\n",
       "      <th>SibSp</th>\n",
       "      <th>Parch</th>\n",
       "    </tr>\n",
       "  </thead>\n",
       "  <tbody>\n",
       "    <tr>\n",
       "      <th>0</th>\n",
       "      <td>0</td>\n",
       "      <td>3</td>\n",
       "      <td>male</td>\n",
       "      <td>22.0</td>\n",
       "      <td>1</td>\n",
       "      <td>0</td>\n",
       "    </tr>\n",
       "    <tr>\n",
       "      <th>1</th>\n",
       "      <td>1</td>\n",
       "      <td>1</td>\n",
       "      <td>female</td>\n",
       "      <td>38.0</td>\n",
       "      <td>1</td>\n",
       "      <td>0</td>\n",
       "    </tr>\n",
       "    <tr>\n",
       "      <th>2</th>\n",
       "      <td>1</td>\n",
       "      <td>3</td>\n",
       "      <td>female</td>\n",
       "      <td>26.0</td>\n",
       "      <td>0</td>\n",
       "      <td>0</td>\n",
       "    </tr>\n",
       "  </tbody>\n",
       "</table>\n",
       "</div>"
      ],
      "text/plain": [
       "   Survived  Pclass     Sex   Age  SibSp  Parch\n",
       "0         0       3    male  22.0      1      0\n",
       "1         1       1  female  38.0      1      0\n",
       "2         1       3  female  26.0      0      0"
      ]
     },
     "execution_count": 75,
     "metadata": {},
     "output_type": "execute_result"
    }
   ],
   "source": [
    "# Let's visualize our dataset with the new changes\n",
    "df.head(3)"
   ]
  },
  {
   "cell_type": "code",
   "execution_count": 74,
   "metadata": {},
   "outputs": [
    {
     "data": {
      "text/html": [
       "<div>\n",
       "<style>\n",
       "    .dataframe thead tr:only-child th {\n",
       "        text-align: right;\n",
       "    }\n",
       "\n",
       "    .dataframe thead th {\n",
       "        text-align: left;\n",
       "    }\n",
       "\n",
       "    .dataframe tbody tr th {\n",
       "        vertical-align: top;\n",
       "    }\n",
       "</style>\n",
       "<table border=\"1\" class=\"dataframe\">\n",
       "  <thead>\n",
       "    <tr style=\"text-align: right;\">\n",
       "      <th></th>\n",
       "      <th>Survived</th>\n",
       "      <th>Pclass</th>\n",
       "      <th>Age</th>\n",
       "      <th>SibSp</th>\n",
       "      <th>Parch</th>\n",
       "    </tr>\n",
       "  </thead>\n",
       "  <tbody>\n",
       "    <tr>\n",
       "      <th>count</th>\n",
       "      <td>891.000000</td>\n",
       "      <td>891.000000</td>\n",
       "      <td>714.000000</td>\n",
       "      <td>891.000000</td>\n",
       "      <td>891.000000</td>\n",
       "    </tr>\n",
       "    <tr>\n",
       "      <th>mean</th>\n",
       "      <td>0.383838</td>\n",
       "      <td>2.308642</td>\n",
       "      <td>29.699118</td>\n",
       "      <td>0.523008</td>\n",
       "      <td>0.381594</td>\n",
       "    </tr>\n",
       "    <tr>\n",
       "      <th>std</th>\n",
       "      <td>0.486592</td>\n",
       "      <td>0.836071</td>\n",
       "      <td>14.526497</td>\n",
       "      <td>1.102743</td>\n",
       "      <td>0.806057</td>\n",
       "    </tr>\n",
       "    <tr>\n",
       "      <th>min</th>\n",
       "      <td>0.000000</td>\n",
       "      <td>1.000000</td>\n",
       "      <td>0.420000</td>\n",
       "      <td>0.000000</td>\n",
       "      <td>0.000000</td>\n",
       "    </tr>\n",
       "    <tr>\n",
       "      <th>25%</th>\n",
       "      <td>0.000000</td>\n",
       "      <td>2.000000</td>\n",
       "      <td>20.125000</td>\n",
       "      <td>0.000000</td>\n",
       "      <td>0.000000</td>\n",
       "    </tr>\n",
       "    <tr>\n",
       "      <th>50%</th>\n",
       "      <td>0.000000</td>\n",
       "      <td>3.000000</td>\n",
       "      <td>28.000000</td>\n",
       "      <td>0.000000</td>\n",
       "      <td>0.000000</td>\n",
       "    </tr>\n",
       "    <tr>\n",
       "      <th>75%</th>\n",
       "      <td>1.000000</td>\n",
       "      <td>3.000000</td>\n",
       "      <td>38.000000</td>\n",
       "      <td>1.000000</td>\n",
       "      <td>0.000000</td>\n",
       "    </tr>\n",
       "    <tr>\n",
       "      <th>max</th>\n",
       "      <td>1.000000</td>\n",
       "      <td>3.000000</td>\n",
       "      <td>80.000000</td>\n",
       "      <td>8.000000</td>\n",
       "      <td>6.000000</td>\n",
       "    </tr>\n",
       "  </tbody>\n",
       "</table>\n",
       "</div>"
      ],
      "text/plain": [
       "         Survived      Pclass         Age       SibSp       Parch\n",
       "count  891.000000  891.000000  714.000000  891.000000  891.000000\n",
       "mean     0.383838    2.308642   29.699118    0.523008    0.381594\n",
       "std      0.486592    0.836071   14.526497    1.102743    0.806057\n",
       "min      0.000000    1.000000    0.420000    0.000000    0.000000\n",
       "25%      0.000000    2.000000   20.125000    0.000000    0.000000\n",
       "50%      0.000000    3.000000   28.000000    0.000000    0.000000\n",
       "75%      1.000000    3.000000   38.000000    1.000000    0.000000\n",
       "max      1.000000    3.000000   80.000000    8.000000    6.000000"
      ]
     },
     "execution_count": 74,
     "metadata": {},
     "output_type": "execute_result"
    }
   ],
   "source": [
    "# Great! our data has been filtered. But we are yet to see if we are working with clean data.\n",
    "# So, let's search for nan values.\n",
    "\n",
    "# I like to use the pd.describe method, since it counts all the values of the dataset and does not \n",
    "# count the np.nan values. So, I am able to see if there are classes with missing data. Note that \n",
    "# the Age feature has less values, which means it might have np.nan values. \n",
    "\n",
    "# With the central tendency and variability variables, I can analyze if there are outliers in the data. \n",
    "# So, I take a look at the mean value and at the range values. So max and min are not greatly separated\n",
    "# from the mean and the std is not insanely huge. I have to take a look at multiple values since each \n",
    "# is affected differently by outliers. E.g: the mean is greatly affected by outliers, but the median is not\n",
    "# and the range allows me to detect extreme values.\n",
    "df.describe()"
   ]
  },
  {
   "cell_type": "code",
   "execution_count": 35,
   "metadata": {},
   "outputs": [
    {
     "name": "stdout",
     "output_type": "stream",
     "text": [
      "Number of np.nan at Age: 177\n",
      "So, if I sum 714 and 177 I get 891\n"
     ]
    }
   ],
   "source": [
    "# So, we are not convinced that the Age feature has nan values ... We can use the following command\n",
    "# to count the np.nan values.\n",
    "number_of_nans = df[\"Age\"].isnull().sum().sum()\n",
    "print(\"Number of np.nan at Age: {}\".format(number_of_nans))\n",
    "print(\"So, if I sum {} and {} I get {}\".format(714, number_of_nans, 714+number_of_nans))"
   ]
  },
  {
   "cell_type": "code",
   "execution_count": 42,
   "metadata": {},
   "outputs": [
    {
     "name": "stdout",
     "output_type": "stream",
     "text": [
      "Survived: 0\n",
      "Pclass: 0\n",
      "SibSp 0\n",
      "Parch 0\n"
     ]
    }
   ],
   "source": [
    "# So, just to convince ourselves that we don't nan values at other columns. Let's check. \n",
    "print(\"Survived: {}\".format(df[\"Survived\"].isnull().sum().sum()))\n",
    "print(\"Pclass: {}\".format(df[\"Pclass\"].isnull().sum().sum()))\n",
    "print(\"SibSp {}\".format(df[\"SibSp\"].isnull().sum().sum()))\n",
    "print(\"Parch {}\".format(df[\"Parch\"].isnull().sum().sum()))"
   ]
  },
  {
   "cell_type": "code",
   "execution_count": 79,
   "metadata": {},
   "outputs": [
    {
     "data": {
      "text/html": [
       "<div>\n",
       "<style>\n",
       "    .dataframe thead tr:only-child th {\n",
       "        text-align: right;\n",
       "    }\n",
       "\n",
       "    .dataframe thead th {\n",
       "        text-align: left;\n",
       "    }\n",
       "\n",
       "    .dataframe tbody tr th {\n",
       "        vertical-align: top;\n",
       "    }\n",
       "</style>\n",
       "<table border=\"1\" class=\"dataframe\">\n",
       "  <thead>\n",
       "    <tr style=\"text-align: right;\">\n",
       "      <th></th>\n",
       "      <th>Survived</th>\n",
       "      <th>Pclass</th>\n",
       "      <th>Age</th>\n",
       "      <th>SibSp</th>\n",
       "      <th>Parch</th>\n",
       "    </tr>\n",
       "  </thead>\n",
       "  <tbody>\n",
       "    <tr>\n",
       "      <th>count</th>\n",
       "      <td>714.000000</td>\n",
       "      <td>714.000000</td>\n",
       "      <td>714.000000</td>\n",
       "      <td>714.000000</td>\n",
       "      <td>714.000000</td>\n",
       "    </tr>\n",
       "    <tr>\n",
       "      <th>mean</th>\n",
       "      <td>0.406162</td>\n",
       "      <td>2.236695</td>\n",
       "      <td>29.699118</td>\n",
       "      <td>0.512605</td>\n",
       "      <td>0.431373</td>\n",
       "    </tr>\n",
       "    <tr>\n",
       "      <th>std</th>\n",
       "      <td>0.491460</td>\n",
       "      <td>0.838250</td>\n",
       "      <td>14.526497</td>\n",
       "      <td>0.929783</td>\n",
       "      <td>0.853289</td>\n",
       "    </tr>\n",
       "    <tr>\n",
       "      <th>min</th>\n",
       "      <td>0.000000</td>\n",
       "      <td>1.000000</td>\n",
       "      <td>0.420000</td>\n",
       "      <td>0.000000</td>\n",
       "      <td>0.000000</td>\n",
       "    </tr>\n",
       "    <tr>\n",
       "      <th>25%</th>\n",
       "      <td>0.000000</td>\n",
       "      <td>1.000000</td>\n",
       "      <td>20.125000</td>\n",
       "      <td>0.000000</td>\n",
       "      <td>0.000000</td>\n",
       "    </tr>\n",
       "    <tr>\n",
       "      <th>50%</th>\n",
       "      <td>0.000000</td>\n",
       "      <td>2.000000</td>\n",
       "      <td>28.000000</td>\n",
       "      <td>0.000000</td>\n",
       "      <td>0.000000</td>\n",
       "    </tr>\n",
       "    <tr>\n",
       "      <th>75%</th>\n",
       "      <td>1.000000</td>\n",
       "      <td>3.000000</td>\n",
       "      <td>38.000000</td>\n",
       "      <td>1.000000</td>\n",
       "      <td>1.000000</td>\n",
       "    </tr>\n",
       "    <tr>\n",
       "      <th>max</th>\n",
       "      <td>1.000000</td>\n",
       "      <td>3.000000</td>\n",
       "      <td>80.000000</td>\n",
       "      <td>5.000000</td>\n",
       "      <td>6.000000</td>\n",
       "    </tr>\n",
       "  </tbody>\n",
       "</table>\n",
       "</div>"
      ],
      "text/plain": [
       "         Survived      Pclass         Age       SibSp       Parch\n",
       "count  714.000000  714.000000  714.000000  714.000000  714.000000\n",
       "mean     0.406162    2.236695   29.699118    0.512605    0.431373\n",
       "std      0.491460    0.838250   14.526497    0.929783    0.853289\n",
       "min      0.000000    1.000000    0.420000    0.000000    0.000000\n",
       "25%      0.000000    1.000000   20.125000    0.000000    0.000000\n",
       "50%      0.000000    2.000000   28.000000    0.000000    0.000000\n",
       "75%      1.000000    3.000000   38.000000    1.000000    1.000000\n",
       "max      1.000000    3.000000   80.000000    5.000000    6.000000"
      ]
     },
     "execution_count": 79,
     "metadata": {},
     "output_type": "execute_result"
    }
   ],
   "source": [
    "# I have to clean the nan values in Age. Let's be harsh and remove the rows with nan values. \n",
    "df_cleaned = df.dropna(axis = 0, how = \"any\")\n",
    "# Let's check our dataset\n",
    "df_cleaned.describe()"
   ]
  },
  {
   "cell_type": "markdown",
   "metadata": {},
   "source": [
    "## 3. Data Exploration\n",
    "Nice! Let's explore our data in order to build intuitions and find patterns. <br>\n",
    "Now, we can start answering our questions.\n",
    "<br> <br>\n",
    "<br> <b> Pclass </b> <br>\n",
    "1. What is the ratio of people that survived and belonged to the first class?\n",
    "2. What is the ratio of people that survived and belonged to the second class?\n",
    "3. What is the ration of people that belong to the first class compared with the others?\n",
    "4. Did second class people have more chance than third class people?\n",
    "<br> <b> Age </b> <br>\n",
    "1. What is the distribution between Age and Survived? (Positive, Negative or no correlation?)\n",
    "2. Are there any specific ages that denote more chance of survival?\n",
    "3. What is the class with the most children (Age < 18)?\n",
    "<br> <b> Sex </b> <br>\n",
    "1. How does the distribution of sex and Survived look like?\n",
    "2. Does sex influence the chance of survival?\n",
    "3. What was the ratio of woman/man?\n",
    "<br> <b> SibSp </b> <br>\n",
    "1. How does the distribution of SibSp vs Survive look like?\n",
    "2. The higher the SibSp ratio, the more chance of survival?\n",
    "3. What is the relation of this variable vs Parch?\n",
    "4. Which denote more chance of survival SibSp or Parch?\n",
    "<br> <b> Parch </b> <br>\n",
    "1. How does the distribution of Parch vs Survive look like?\n",
    "2. The higher the Parch ratio, the more chance of survival?\n",
    "3. What is the relation of this variable vs SibSp?\n",
    "4. Which denote more chance of survival SibSp or Parch?\n",
    "<br> <br>"
   ]
  },
  {
   "cell_type": "markdown",
   "metadata": {},
   "source": [
    "### Survived vs Pclass"
   ]
  },
  {
   "cell_type": "code",
   "execution_count": 88,
   "metadata": {},
   "outputs": [
    {
     "name": "stdout",
     "output_type": "stream",
     "text": [
      "Total number of samples: 714\n",
      "\n",
      "First class and survived: 122 :: percentage 65.59139784946237\n",
      "First class and not survived: 64 :: percentage 34.40860215053763\n",
      "\n",
      "Second class and survived: 83 :: percentage 47.97687861271676\n",
      "Second class and not survived: 90 :: percentage 52.02312138728324\n",
      "\n",
      "Third class and survived: 85 :: percentage 23.943661971830984\n",
      "Third class and not survived: 270 :: percentage 76.05633802816902\n"
     ]
    }
   ],
   "source": [
    "# First class\n",
    "first_class_and_survived = df_cleaned.query(\"Pclass == 1 and Survived == 1\").shape[0]\n",
    "first_class_and_not_survived = df_cleaned.query(\"Pclass == 1 and Survived == 0\").shape[0]\n",
    "p_f_s = (first_class_and_survived / (first_class_and_survived + first_class_and_not_survived)) * 100\n",
    "p_f_n_s = 100 - p_f_s\n",
    "\n",
    "# Second class\n",
    "second_class_and_survived = df_cleaned.query(\"Pclass == 2 and Survived == 1\").shape[0]\n",
    "second_class_and_not_survived = df_cleaned.query(\"Pclass == 2 and Survived == 0\").shape[0]\n",
    "p_s_s = (second_class_and_survived / (second_class_and_survived + second_class_and_not_survived)) * 100\n",
    "p_s_n_s = 100 - p_s_s\n",
    "\n",
    "# Third class\n",
    "third_class_and_survived = df_cleaned.query(\"Pclass == 3 and Survived == 1\").shape[0]\n",
    "third_class_and_not_survived = df_cleaned.query(\"Pclass == 3 and Survived == 0\").shape[0]\n",
    "p_t_s = (third_class_and_survived / (third_class_and_survived + third_class_and_not_survived)) * 100\n",
    "p_t_n_s = 100 - p_t_s\n",
    "\n",
    "print(\"Total number of samples: {}\".format(df_cleaned.shape[0]))\n",
    "print(\"\\nFirst class and survived: {} :: percentage {}\".format(first_class_and_survived, p_f_s))\n",
    "print(\"First class and not survived: {} :: percentage {}\".format(first_class_and_not_survived, p_f_n_s))\n",
    "\n",
    "print(\"\\nSecond class and survived: {} :: percentage {}\".format(second_class_and_survived, p_s_s))\n",
    "print(\"Second class and not survived: {} :: percentage {}\".format(second_class_and_not_survived, p_s_n_s))\n",
    "\n",
    "print(\"\\nThird class and survived: {} :: percentage {}\".format(third_class_and_survived, p_t_s))\n",
    "print(\"Third class and not survived: {} :: percentage {}\".format(third_class_and_not_survived, p_t_n_s))"
   ]
  },
  {
   "cell_type": "markdown",
   "metadata": {},
   "source": [
    "1. What is the ratio of people that survived and belonged to the first class against the people that did not survive and also belonged to the first class?<br>\n",
    "A/ The ratio is 1.90\n",
    "2. What is the ratio of people that survived and belonged to the second class against the people that did not survive and also belonged to the second class?<br>\n",
    "A/ The ratio is 0.92\n",
    "3. What is the ratio of people that survived and belonged to the third class against the people that did not survive and also belonged to the third class?<br>\n",
    "A/ The ratio is 0.44\n",
    "4. Did first class people have more chance of survival against the other classes?<br>\n",
    "A/ Yes. The 1.90 indicates a strong chance of survival against the 0.92 and 0.44 of the other classes. In fact, the ratio for the other classes was lower than 1. Which means, these classes had less chance of survival. \n",
    "5. Did the second class people have more chance of survival than third class people?<br>\n",
    "A/ Yes, the second class people had more chance. \n",
    "\n",
    "<b>Conclusions</b> <br>\n",
    "The higuer the class, the more chance of survival."
   ]
  },
  {
   "cell_type": "markdown",
   "metadata": {},
   "source": [
    "### Age vs Survived "
   ]
  },
  {
   "cell_type": "code",
   "execution_count": 84,
   "metadata": {},
   "outputs": [
    {
     "data": {
      "image/png": "[encoded data removed]",
      "text/plain": [
       "<matplotlib.figure.Figure at 0x1d83daa5358>"
      ]
     },
     "metadata": {},
     "output_type": "display_data"
    }
   ],
   "source": [
    "#Plot Survived vs Pclass\n",
    "x_name = \"Survived\"\n",
    "y_name = \"Age\"\n",
    "plt.scatter(df_cleaned[x_name], df_cleaned[y_name])\n",
    "plt.title(\"{} vs {}\".format(y_name, x_name))\n",
    "plt.xlabel(x_name)\n",
    "plt.ylabel(y_name)\n",
    "plt.show()"
   ]
  },
  {
   "cell_type": "code",
   "execution_count": 103,
   "metadata": {},
   "outputs": [
    {
     "name": "stdout",
     "output_type": "stream",
     "text": [
      "Amount of people that survived: 290, \n",
      "mean: 28.343689655172415, \n",
      "std: 14.950951984140426\n",
      "\n",
      "Amount of people that did not survive: 424, \n",
      "mean: 30.62617924528302, \n",
      "std: 14.17210987713849\n"
     ]
    }
   ],
   "source": [
    "age_survived = df_cleaned.query(\"Survived == 1 and Age >= 0\")\n",
    "age_not_survived = df_cleaned.query(\"Survived == 0 and Age >= 0\")\n",
    "\n",
    "mean_age_survived = age_survived.mean()\n",
    "mean_age_not_survived = age_not_survived.mean()\n",
    "\n",
    "std_age_survived = age_survived.std()\n",
    "std_age_not_survived = age_not_survived.std()\n",
    "\n",
    "print(\"Amount of people that survived: {}, \\nmean: {}, \\nstd: {}\".format(age_survived.shape[0], mean_age_survived[\"Age\"], std_age_survived[\"Age\"]))\n",
    "print(\"\\nAmount of people that did not survive: {}, \\nmean: {}, \\nstd: {}\".format(age_not_survived.shape[0], mean_age_not_survived[\"Age\"], std_age_not_survived[\"Age\"]))"
   ]
  },
  {
   "cell_type": "markdown",
   "metadata": {},
   "source": [
    "1. What is the distribution between Age and Survived?<br>\n",
    "A/ In the scatter plot, we can see that the people that survived have a more compact age distribution than the people that did not survive. The standard deviations seem equal, I thought the people that survived were going to have a smaller std value. But the outlier is affecting the std and the mean.<br>\n",
    "I will make a box plot and remove the outlier. "
   ]
  },
  {
   "cell_type": "code",
   "execution_count": 109,
   "metadata": {},
   "outputs": [
    {
     "data": {
      "image/png": "[encoded data removed]",
      "text/plain": [
       "<matplotlib.figure.Figure at 0x1d83dd82208>"
      ]
     },
     "metadata": {},
     "output_type": "display_data"
    }
   ],
   "source": [
    "age_survived[\"Age\"].plot()\n",
    "plt.title(\"Age distribution for people that survived\")\n",
    "plt.ylabel(\"Age\")\n",
    "plt.xlabel(\"Number of sample point\")\n",
    "plt.show()"
   ]
  },
  {
   "cell_type": "code",
   "execution_count": 111,
   "metadata": {},
   "outputs": [
    {
     "data": {
      "text/plain": [
       "count    290.000000\n",
       "mean      28.343690\n",
       "std       14.950952\n",
       "min        0.420000\n",
       "25%       19.000000\n",
       "50%       28.000000\n",
       "75%       36.000000\n",
       "max       80.000000\n",
       "Name: Age, dtype: float64"
      ]
     },
     "execution_count": 111,
     "metadata": {},
     "output_type": "execute_result"
    }
   ],
   "source": [
    "age_survived[\"Age\"].describe()"
   ]
  },
  {
   "cell_type": "markdown",
   "metadata": {},
   "source": [
    "The outlier is the max value in the distribution. We can use the IQR rule to eliminate outliers"
   ]
  },
  {
   "cell_type": "code",
   "execution_count": 115,
   "metadata": {},
   "outputs": [
    {
     "name": "stdout",
     "output_type": "stream",
     "text": [
      "36.0\n"
     ]
    }
   ],
   "source": [
    "first_quantile = age_survived[\"Age\"].quantile(q = 0.25)\n",
    "second_quantile = age_survived[\"Age\"].quantile(q = 0.50)\n",
    "third_quantile = age_survived[\"Age\"].quantile(q = 0.75)\n",
    "print(age_survived_copy)"
   ]
  },
  {
   "cell_type": "markdown",
   "metadata": {},
   "source": [
    "2. Are there any specific ages that denote more chance of survival?\n",
    "3. What is the class with the most children (Age < 18)?"
   ]
  }
 ],
 "metadata": {
  "kernelspec": {
   "display_name": "Python 3",
   "language": "python",
   "name": "python3"
  },
  "language_info": {
   "codemirror_mode": {
    "name": "ipython",
    "version": 3
   },
   "file_extension": ".py",
   "mimetype": "text/x-python",
   "name": "python",
   "nbconvert_exporter": "python",
   "pygments_lexer": "ipython3",
   "version": "3.5.3"
  }
 },
 "nbformat": 4,
 "nbformat_minor": 2
}
