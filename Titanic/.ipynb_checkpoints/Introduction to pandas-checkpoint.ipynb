{
 "cells": [
  {
   "cell_type": "markdown",
   "metadata": {},
   "source": [
    "# Introduction to pandas \n",
    "In this notebook we are going to learn the basics of pandas. \n",
    "Pandas is a Python library that is used to handle datasets using standarized data structures.  \n",
    "\n",
    "## 1D data\n",
    "The most basic data structure in pandas is called a \"Series\" which is used to handle 1-dimensional data. "
   ]
  },
  {
   "cell_type": "code",
   "execution_count": 2,
   "metadata": {
    "collapsed": true
   },
   "outputs": [],
   "source": [
    "# Import libraries\n",
    "# General purpose\n",
    "import os\n",
    "import sys\n",
    "# Tensor manipulation\n",
    "import numpy as np\n",
    "# Data manipulation\n",
    "import pandas as pd"
   ]
  },
  {
   "cell_type": "markdown",
   "metadata": {},
   "source": [
    "## Working with lists\n",
    "The most basic data structure for 1 dimensional data are lists.\n",
    "Here is the documentation:\n",
    "https://docs.python.org/3/tutorial/datastructures.html"
   ]
  },
  {
   "cell_type": "code",
   "execution_count": 21,
   "metadata": {},
   "outputs": [
    {
     "name": "stdout",
     "output_type": "stream",
     "text": [
      "Example 1d array (list data type): [0, 1, 2, 3, 4, 5]\n"
     ]
    }
   ],
   "source": [
    "# Example 1D data\n",
    "array = [x for x in range(6)]\n",
    "print(\"Example 1d array (list data type): {}\".format(array))"
   ]
  },
  {
   "cell_type": "code",
   "execution_count": 22,
   "metadata": {},
   "outputs": [
    {
     "name": "stdout",
     "output_type": "stream",
     "text": [
      "This is how you find a number efficiently: 3\n",
      "\n",
      "This is how you slice a vector:\n",
      "    slicing until position 2: [0, 1] \n",
      "    slicing from position 2 to the end:[2, 3, 4, 5]\n"
     ]
    }
   ],
   "source": [
    "# Some useful built-in methods for lists\n",
    "print(\"This is how you find a number efficiently: {}\".format(array.index(3)))\n",
    "print(\"\\nThis is how you slice a vector:\\n    slicing until position 2: {} \\n    slicing from position 2 to the end:{}\".format(array[:2], array[2:]))"
   ]
  },
  {
   "cell_type": "code",
   "execution_count": 14,
   "metadata": {},
   "outputs": [
    {
     "name": "stdout",
     "output_type": "stream",
     "text": [
      "\n",
      "This is how you remove an element: [0, 1, 2, 4, 5]\n"
     ]
    }
   ],
   "source": [
    "array.remove(3)\n",
    "print(\"\\nThis is how you remove an element: {}\".format(array))"
   ]
  },
  {
   "cell_type": "markdown",
   "metadata": {},
   "source": [
    "## Working with numpy arrays\n",
    "When working with 1d series (tensors in general), it is better to use numpy arrays because they are efficient when dealing with huge vectors. \n",
    "Numpy documentation:\n",
    "https://docs.scipy.org/doc/"
   ]
  },
  {
   "cell_type": "code",
   "execution_count": 27,
   "metadata": {},
   "outputs": [
    {
     "name": "stdout",
     "output_type": "stream",
     "text": [
      "Array type: <class 'list'>\n",
      "Example 1d numpy array: [0, 1, 2, 3, 4, 5]\n"
     ]
    }
   ],
   "source": [
    "# This is how you declare a 1d array in numpy\n",
    "numpyArray = np.array([x for x in range(6)])\n",
    "print(\"Array type: {}\\nExample 1d numpy array: {}\".format(type(array), array))"
   ]
  },
  {
   "cell_type": "code",
   "execution_count": 26,
   "metadata": {},
   "outputs": [
    {
     "name": "stdout",
     "output_type": "stream",
     "text": [
      "This is how you find the position of an element: (array([2], dtype=int64),)\n"
     ]
    }
   ],
   "source": [
    "# Some useful methods\n",
    "print(\"This is how you find the position of an element: {}\".format(np.where(numpyArray == 2)))"
   ]
  },
  {
   "cell_type": "code",
   "execution_count": 28,
   "metadata": {},
   "outputs": [
    {
     "name": "stdout",
     "output_type": "stream",
     "text": [
      "This is how you can manipulate numpy arrays easily: (array([4, 5], dtype=int64),)\n"
     ]
    }
   ],
   "source": [
    "print(\"This is how you can manipulate numpy arrays easily: {}\".format(np.where(numpyArray > 3)))"
   ]
  },
  {
   "cell_type": "markdown",
   "metadata": {},
   "source": [
    "## Working with pandas series\n",
    "The easiest way to work with 1 dimensional data is using pandas. Which has tons of built in methods to perform very complex operations that are useful for data exploration and visualization. "
   ]
  },
  {
   "cell_type": "code",
   "execution_count": 51,
   "metadata": {},
   "outputs": [],
   "source": [
    "series = pd.Series([6, 6, 7, 3, 9], index = [\"a\", \"b\", \"c\", \"d\", \"e\"])"
   ]
  },
  {
   "cell_type": "code",
   "execution_count": 52,
   "metadata": {},
   "outputs": [
    {
     "name": "stdout",
     "output_type": "stream",
     "text": [
      "This is a panda's series: \n",
      "a    6\n",
      "b    6\n",
      "c    7\n",
      "d    3\n",
      "e    9\n",
      "dtype: int64\n"
     ]
    }
   ],
   "source": [
    "print(\"This is a panda's series: \\n{}\".format(series))"
   ]
  },
  {
   "cell_type": "code",
   "execution_count": 53,
   "metadata": {},
   "outputs": [
    {
     "name": "stdout",
     "output_type": "stream",
     "text": [
      "We usually want a quick summary that describes the variability and central tendency of our data: \n",
      "count    5.000000\n",
      "mean     6.200000\n",
      "std      2.167948\n",
      "min      3.000000\n",
      "25%      6.000000\n",
      "50%      6.000000\n",
      "75%      7.000000\n",
      "max      9.000000\n",
      "dtype: float64\n"
     ]
    }
   ],
   "source": [
    "print(\"We usually want a quick summary that describes the variability and central tendency of our data: \\n{}\"\\\n",
    "      .format(series.describe()))"
   ]
  },
  {
   "cell_type": "code",
   "execution_count": 54,
   "metadata": {},
   "outputs": [
    {
     "name": "stdout",
     "output_type": "stream",
     "text": [
      "In pandas there are two ways to search for data.\n",
      " The first is to use the indexes of the rows: 6\n"
     ]
    }
   ],
   "source": [
    "print(\"In pandas there are two ways to search for data.\\n The first is to use the indexes of the rows: {}\"\\\n",
    "      .format(series.loc[\"b\"]))"
   ]
  },
  {
   "cell_type": "code",
   "execution_count": 56,
   "metadata": {},
   "outputs": [
    {
     "name": "stdout",
     "output_type": "stream",
     "text": [
      "The second way is to use the position of the value in the array: 6\n"
     ]
    }
   ],
   "source": [
    "print(\"The second way is to use the position of the value in the array: {}\".format(series.iloc[0]))"
   ]
  },
  {
   "cell_type": "code",
   "execution_count": 58,
   "metadata": {},
   "outputs": [
    {
     "name": "stdout",
     "output_type": "stream",
     "text": [
      "Finally, it is necessary to filter values when working with series: \n",
      "a     True\n",
      "b     True\n",
      "c     True\n",
      "d    False\n",
      "e     True\n",
      "dtype: bool\n"
     ]
    }
   ],
   "source": [
    "print(\"Finally, it is necessary to filter values when working with series: \\n{}\".format(series > 3))"
   ]
  },
  {
   "cell_type": "code",
   "execution_count": 61,
   "metadata": {},
   "outputs": [
    {
     "name": "stdout",
     "output_type": "stream",
     "text": [
      "Sometimes it is more intuitive to use numpy functions: \n",
      " (array([0, 1, 2, 4], dtype=int64),)\n"
     ]
    }
   ],
   "source": [
    "print(\"Sometimes it is more intuitive to use numpy functions: \\n\", np.where(series > 3))"
   ]
  },
  {
   "cell_type": "code",
   "execution_count": null,
   "metadata": {
    "collapsed": true
   },
   "outputs": [],
   "source": []
  }
 ],
 "metadata": {
  "kernelspec": {
   "display_name": "Python 3",
   "language": "python",
   "name": "python3"
  },
  "language_info": {
   "codemirror_mode": {
    "name": "ipython",
    "version": 3
   },
   "file_extension": ".py",
   "mimetype": "text/x-python",
   "name": "python",
   "nbconvert_exporter": "python",
   "pygments_lexer": "ipython3",
   "version": "3.5.3"
  }
 },
 "nbformat": 4,
 "nbformat_minor": 2
}
