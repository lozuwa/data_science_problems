{
 "cells": [
  {
   "cell_type": "markdown",
   "metadata": {},
   "source": [
    "## Data Science 101\n",
    "There is a procedure in data science:<br><br>\n",
    "<b>1.</b> Define your problem<br><br>\n",
    "<b>2.</b> Data wrangling<br>\n",
    "...<b>2.1.</b> Get the data<br>\n",
    "...<b>2.2</b> Clean the data<br><br>\n",
    "<b>3.</b> Data exploration<br>\n",
    "...<b>3.1</b> Build intuitions<br>\n",
    "...<b>3.2</b> Find patterns<br><br>\n",
    "<b>4.</b> Draw conclusions<br>\n",
    "...<b>4.1</b> Usually machine learning or statistical learning<br><br>\n",
    "<b>5.</b> Communication phase<br>\n",
    "...<b>5.1</b> Make plots so people can understand your results<br><br>\n",
    "## Titanic Dataset\n",
    "(Copied from https://www.kaggle.com/c/titanic/data) <br>\n",
    "\"The training set should be used to build your machine learning models. For the training set, we provide the outcome (also known as the “ground truth”) for each passenger. Your model will be based on “features” like passengers’ gender and class. You can also use feature engineering to create new features.<br><br>\n",
    "The test set should be used to see how well your model performs on unseen data. For the test set, we do not provide the ground truth for each passenger. It is your job to predict these outcomes. For each passenger in the test set, use the model you trained to predict whether or not they survived the sinking of the Titanic.<br><br>\n",
    "We also include gender_submission.csv, a set of predictions that assume all and only female passengers survive, as an example of what a submission file should look like.\""
   ]
  },
  {
   "cell_type": "code",
   "execution_count": 1,
   "metadata": {
    "collapsed": true
   },
   "outputs": [],
   "source": [
    "# Libraries\n",
    "import os\n",
    "import pandas as pd\n",
    "import numpy as np\n",
    "import matplotlib.pyplot as plt\n",
    "from sklearn.linear_model import LogisticRegression"
   ]
  },
  {
   "cell_type": "markdown",
   "metadata": {},
   "source": [
    "## 2. Data wrangling\n",
    "Get the data and do some initial cleaning"
   ]
  },
  {
   "cell_type": "code",
   "execution_count": 3,
   "metadata": {
    "collapsed": true
   },
   "outputs": [],
   "source": [
    "# Load the data into a dataframe\n",
    "PATH_TO_TRAINING = os.path.join(os.getcwd(), \"data\", \"train.csv\")\n",
    "assert os.path.isfile(PATH_TO_TRAINING), \"file does not exist\"\n",
    "original_df = pd.read_csv(PATH_TO_TRAINING)"
   ]
  },
  {
   "cell_type": "code",
   "execution_count": 4,
   "metadata": {},
   "outputs": [
    {
     "data": {
      "text/html": [
       "<div>\n",
       "<style>\n",
       "    .dataframe thead tr:only-child th {\n",
       "        text-align: right;\n",
       "    }\n",
       "\n",
       "    .dataframe thead th {\n",
       "        text-align: left;\n",
       "    }\n",
       "\n",
       "    .dataframe tbody tr th {\n",
       "        vertical-align: top;\n",
       "    }\n",
       "</style>\n",
       "<table border=\"1\" class=\"dataframe\">\n",
       "  <thead>\n",
       "    <tr style=\"text-align: right;\">\n",
       "      <th></th>\n",
       "      <th>PassengerId</th>\n",
       "      <th>Survived</th>\n",
       "      <th>Pclass</th>\n",
       "      <th>Name</th>\n",
       "      <th>Sex</th>\n",
       "      <th>Age</th>\n",
       "      <th>SibSp</th>\n",
       "      <th>Parch</th>\n",
       "      <th>Ticket</th>\n",
       "      <th>Fare</th>\n",
       "      <th>Cabin</th>\n",
       "      <th>Embarked</th>\n",
       "    </tr>\n",
       "  </thead>\n",
       "  <tbody>\n",
       "    <tr>\n",
       "      <th>0</th>\n",
       "      <td>1</td>\n",
       "      <td>0</td>\n",
       "      <td>3</td>\n",
       "      <td>Braund, Mr. Owen Harris</td>\n",
       "      <td>male</td>\n",
       "      <td>22.0</td>\n",
       "      <td>1</td>\n",
       "      <td>0</td>\n",
       "      <td>A/5 21171</td>\n",
       "      <td>7.2500</td>\n",
       "      <td>NaN</td>\n",
       "      <td>S</td>\n",
       "    </tr>\n",
       "    <tr>\n",
       "      <th>1</th>\n",
       "      <td>2</td>\n",
       "      <td>1</td>\n",
       "      <td>1</td>\n",
       "      <td>Cumings, Mrs. John Bradley (Florence Briggs Th...</td>\n",
       "      <td>female</td>\n",
       "      <td>38.0</td>\n",
       "      <td>1</td>\n",
       "      <td>0</td>\n",
       "      <td>PC 17599</td>\n",
       "      <td>71.2833</td>\n",
       "      <td>C85</td>\n",
       "      <td>C</td>\n",
       "    </tr>\n",
       "    <tr>\n",
       "      <th>2</th>\n",
       "      <td>3</td>\n",
       "      <td>1</td>\n",
       "      <td>3</td>\n",
       "      <td>Heikkinen, Miss. Laina</td>\n",
       "      <td>female</td>\n",
       "      <td>26.0</td>\n",
       "      <td>0</td>\n",
       "      <td>0</td>\n",
       "      <td>STON/O2. 3101282</td>\n",
       "      <td>7.9250</td>\n",
       "      <td>NaN</td>\n",
       "      <td>S</td>\n",
       "    </tr>\n",
       "  </tbody>\n",
       "</table>\n",
       "</div>"
      ],
      "text/plain": [
       "   PassengerId  Survived  Pclass  \\\n",
       "0            1         0       3   \n",
       "1            2         1       1   \n",
       "2            3         1       3   \n",
       "\n",
       "                                                Name     Sex   Age  SibSp  \\\n",
       "0                            Braund, Mr. Owen Harris    male  22.0      1   \n",
       "1  Cumings, Mrs. John Bradley (Florence Briggs Th...  female  38.0      1   \n",
       "2                             Heikkinen, Miss. Laina  female  26.0      0   \n",
       "\n",
       "   Parch            Ticket     Fare Cabin Embarked  \n",
       "0      0         A/5 21171   7.2500   NaN        S  \n",
       "1      0          PC 17599  71.2833   C85        C  \n",
       "2      0  STON/O2. 3101282   7.9250   NaN        S  "
      ]
     },
     "execution_count": 4,
     "metadata": {},
     "output_type": "execute_result"
    }
   ],
   "source": [
    "# I want to explore the data before anything\n",
    "original_df.head(3)"
   ]
  },
  {
   "cell_type": "markdown",
   "metadata": {},
   "source": [
    "The first thing I work in is defining the type of variable that we are dealing with in each feature. I can use pandas' function df.dtypes"
   ]
  },
  {
   "cell_type": "code",
   "execution_count": 5,
   "metadata": {},
   "outputs": [
    {
     "data": {
      "text/plain": [
       "PassengerId      int64\n",
       "Survived         int64\n",
       "Pclass           int64\n",
       "Name            object\n",
       "Sex             object\n",
       "Age            float64\n",
       "SibSp            int64\n",
       "Parch            int64\n",
       "Ticket          object\n",
       "Fare           float64\n",
       "Cabin           object\n",
       "Embarked        object\n",
       "dtype: object"
      ]
     },
     "execution_count": 5,
     "metadata": {},
     "output_type": "execute_result"
    }
   ],
   "source": [
    "original_df.dtypes"
   ]
  },
  {
   "cell_type": "markdown",
   "metadata": {},
   "source": [
    "Once I know if the type of variable that each feature use, I can select the features that I think will not contribute to the problem. \n",
    "For example:\n",
    "* PassengerId: Not a feature that we can use, it depicts anything important. \n",
    "* Name: Not an important feature, we don't care. \n",
    "* Ticket: Not important as well. \n",
    "* Fare: It seems it is not important. We will investigate later.\n",
    "* Cabin: Not important.\n",
    "* Embarked: Not important.<br><br>\n",
    "I will remove these features and model a prediction algorithm with the features that are left. "
   ]
  },
  {
   "cell_type": "code",
   "execution_count": 6,
   "metadata": {
    "collapsed": true
   },
   "outputs": [],
   "source": [
    "# I can use the pd.drop function that receives a list of names that depict the columns and an axis value \n",
    "# that tells the function to drop the columns axis \n",
    "df = original_df.drop([\"PassengerId\", \"Name\", \"Ticket\", \"Fare\", \"Cabin\", \"Embarked\"], axis = 1)"
   ]
  },
  {
   "cell_type": "code",
   "execution_count": 7,
   "metadata": {},
   "outputs": [
    {
     "data": {
      "text/html": [
       "<div>\n",
       "<style>\n",
       "    .dataframe thead tr:only-child th {\n",
       "        text-align: right;\n",
       "    }\n",
       "\n",
       "    .dataframe thead th {\n",
       "        text-align: left;\n",
       "    }\n",
       "\n",
       "    .dataframe tbody tr th {\n",
       "        vertical-align: top;\n",
       "    }\n",
       "</style>\n",
       "<table border=\"1\" class=\"dataframe\">\n",
       "  <thead>\n",
       "    <tr style=\"text-align: right;\">\n",
       "      <th></th>\n",
       "      <th>Survived</th>\n",
       "      <th>Pclass</th>\n",
       "      <th>Sex</th>\n",
       "      <th>Age</th>\n",
       "      <th>SibSp</th>\n",
       "      <th>Parch</th>\n",
       "    </tr>\n",
       "  </thead>\n",
       "  <tbody>\n",
       "    <tr>\n",
       "      <th>0</th>\n",
       "      <td>0</td>\n",
       "      <td>3</td>\n",
       "      <td>male</td>\n",
       "      <td>22.0</td>\n",
       "      <td>1</td>\n",
       "      <td>0</td>\n",
       "    </tr>\n",
       "    <tr>\n",
       "      <th>1</th>\n",
       "      <td>1</td>\n",
       "      <td>1</td>\n",
       "      <td>female</td>\n",
       "      <td>38.0</td>\n",
       "      <td>1</td>\n",
       "      <td>0</td>\n",
       "    </tr>\n",
       "    <tr>\n",
       "      <th>2</th>\n",
       "      <td>1</td>\n",
       "      <td>3</td>\n",
       "      <td>female</td>\n",
       "      <td>26.0</td>\n",
       "      <td>0</td>\n",
       "      <td>0</td>\n",
       "    </tr>\n",
       "  </tbody>\n",
       "</table>\n",
       "</div>"
      ],
      "text/plain": [
       "   Survived  Pclass     Sex   Age  SibSp  Parch\n",
       "0         0       3    male  22.0      1      0\n",
       "1         1       1  female  38.0      1      0\n",
       "2         1       3  female  26.0      0      0"
      ]
     },
     "execution_count": 7,
     "metadata": {},
     "output_type": "execute_result"
    }
   ],
   "source": [
    "# Let's visualize our dataset with the new changes\n",
    "df.head(3)"
   ]
  },
  {
   "cell_type": "code",
   "execution_count": 74,
   "metadata": {},
   "outputs": [
    {
     "data": {
      "text/html": [
       "<div>\n",
       "<style>\n",
       "    .dataframe thead tr:only-child th {\n",
       "        text-align: right;\n",
       "    }\n",
       "\n",
       "    .dataframe thead th {\n",
       "        text-align: left;\n",
       "    }\n",
       "\n",
       "    .dataframe tbody tr th {\n",
       "        vertical-align: top;\n",
       "    }\n",
       "</style>\n",
       "<table border=\"1\" class=\"dataframe\">\n",
       "  <thead>\n",
       "    <tr style=\"text-align: right;\">\n",
       "      <th></th>\n",
       "      <th>Survived</th>\n",
       "      <th>Pclass</th>\n",
       "      <th>Age</th>\n",
       "      <th>SibSp</th>\n",
       "      <th>Parch</th>\n",
       "    </tr>\n",
       "  </thead>\n",
       "  <tbody>\n",
       "    <tr>\n",
       "      <th>count</th>\n",
       "      <td>891.000000</td>\n",
       "      <td>891.000000</td>\n",
       "      <td>714.000000</td>\n",
       "      <td>891.000000</td>\n",
       "      <td>891.000000</td>\n",
       "    </tr>\n",
       "    <tr>\n",
       "      <th>mean</th>\n",
       "      <td>0.383838</td>\n",
       "      <td>2.308642</td>\n",
       "      <td>29.699118</td>\n",
       "      <td>0.523008</td>\n",
       "      <td>0.381594</td>\n",
       "    </tr>\n",
       "    <tr>\n",
       "      <th>std</th>\n",
       "      <td>0.486592</td>\n",
       "      <td>0.836071</td>\n",
       "      <td>14.526497</td>\n",
       "      <td>1.102743</td>\n",
       "      <td>0.806057</td>\n",
       "    </tr>\n",
       "    <tr>\n",
       "      <th>min</th>\n",
       "      <td>0.000000</td>\n",
       "      <td>1.000000</td>\n",
       "      <td>0.420000</td>\n",
       "      <td>0.000000</td>\n",
       "      <td>0.000000</td>\n",
       "    </tr>\n",
       "    <tr>\n",
       "      <th>25%</th>\n",
       "      <td>0.000000</td>\n",
       "      <td>2.000000</td>\n",
       "      <td>20.125000</td>\n",
       "      <td>0.000000</td>\n",
       "      <td>0.000000</td>\n",
       "    </tr>\n",
       "    <tr>\n",
       "      <th>50%</th>\n",
       "      <td>0.000000</td>\n",
       "      <td>3.000000</td>\n",
       "      <td>28.000000</td>\n",
       "      <td>0.000000</td>\n",
       "      <td>0.000000</td>\n",
       "    </tr>\n",
       "    <tr>\n",
       "      <th>75%</th>\n",
       "      <td>1.000000</td>\n",
       "      <td>3.000000</td>\n",
       "      <td>38.000000</td>\n",
       "      <td>1.000000</td>\n",
       "      <td>0.000000</td>\n",
       "    </tr>\n",
       "    <tr>\n",
       "      <th>max</th>\n",
       "      <td>1.000000</td>\n",
       "      <td>3.000000</td>\n",
       "      <td>80.000000</td>\n",
       "      <td>8.000000</td>\n",
       "      <td>6.000000</td>\n",
       "    </tr>\n",
       "  </tbody>\n",
       "</table>\n",
       "</div>"
      ],
      "text/plain": [
       "         Survived      Pclass         Age       SibSp       Parch\n",
       "count  891.000000  891.000000  714.000000  891.000000  891.000000\n",
       "mean     0.383838    2.308642   29.699118    0.523008    0.381594\n",
       "std      0.486592    0.836071   14.526497    1.102743    0.806057\n",
       "min      0.000000    1.000000    0.420000    0.000000    0.000000\n",
       "25%      0.000000    2.000000   20.125000    0.000000    0.000000\n",
       "50%      0.000000    3.000000   28.000000    0.000000    0.000000\n",
       "75%      1.000000    3.000000   38.000000    1.000000    0.000000\n",
       "max      1.000000    3.000000   80.000000    8.000000    6.000000"
      ]
     },
     "execution_count": 74,
     "metadata": {},
     "output_type": "execute_result"
    }
   ],
   "source": [
    "# Great! our data has been filtered. But we are yet to see if we are working with clean data.\n",
    "# So, let's search for nan values.\n",
    "\n",
    "# I like to use the pd.describe method, since it counts all the values of the dataset and does not \n",
    "# count the np.nan values. So, I am able to see if there are classes with missing data. Note that \n",
    "# the Age feature has less values, which means it might have np.nan values. \n",
    "\n",
    "# With the central tendency and variability variables, I can analyze if there are outliers in the data. \n",
    "# So, I take a look at the mean value and at the range values. So max and min are not greatly separated\n",
    "# from the mean and the std is not insanely huge. I have to take a look at multiple values since each \n",
    "# is affected differently by outliers. E.g: the mean is greatly affected by outliers, but the median is not\n",
    "# and the range allows me to detect extreme values.\n",
    "df.describe()"
   ]
  },
  {
   "cell_type": "code",
   "execution_count": 35,
   "metadata": {},
   "outputs": [
    {
     "name": "stdout",
     "output_type": "stream",
     "text": [
      "Number of np.nan at Age: 177\n",
      "So, if I sum 714 and 177 I get 891\n"
     ]
    }
   ],
   "source": [
    "# So, we are not convinced that the Age feature has nan values ... We can use the following command\n",
    "# to count the np.nan values.\n",
    "number_of_nans = df[\"Age\"].isnull().sum().sum()\n",
    "print(\"Number of np.nan at Age: {}\".format(number_of_nans))\n",
    "print(\"So, if I sum {} and {} I get {}\".format(714, number_of_nans, 714+number_of_nans))"
   ]
  },
  {
   "cell_type": "code",
   "execution_count": 42,
   "metadata": {},
   "outputs": [
    {
     "name": "stdout",
     "output_type": "stream",
     "text": [
      "Survived: 0\n",
      "Pclass: 0\n",
      "SibSp 0\n",
      "Parch 0\n"
     ]
    }
   ],
   "source": [
    "# So, just to convince ourselves that we don't nan values at other columns. Let's check. \n",
    "print(\"Survived: {}\".format(df[\"Survived\"].isnull().sum().sum()))\n",
    "print(\"Pclass: {}\".format(df[\"Pclass\"].isnull().sum().sum()))\n",
    "print(\"SibSp {}\".format(df[\"SibSp\"].isnull().sum().sum()))\n",
    "print(\"Parch {}\".format(df[\"Parch\"].isnull().sum().sum()))"
   ]
  },
  {
   "cell_type": "code",
   "execution_count": 79,
   "metadata": {},
   "outputs": [
    {
     "data": {
      "text/html": [
       "<div>\n",
       "<style>\n",
       "    .dataframe thead tr:only-child th {\n",
       "        text-align: right;\n",
       "    }\n",
       "\n",
       "    .dataframe thead th {\n",
       "        text-align: left;\n",
       "    }\n",
       "\n",
       "    .dataframe tbody tr th {\n",
       "        vertical-align: top;\n",
       "    }\n",
       "</style>\n",
       "<table border=\"1\" class=\"dataframe\">\n",
       "  <thead>\n",
       "    <tr style=\"text-align: right;\">\n",
       "      <th></th>\n",
       "      <th>Survived</th>\n",
       "      <th>Pclass</th>\n",
       "      <th>Age</th>\n",
       "      <th>SibSp</th>\n",
       "      <th>Parch</th>\n",
       "    </tr>\n",
       "  </thead>\n",
       "  <tbody>\n",
       "    <tr>\n",
       "      <th>count</th>\n",
       "      <td>714.000000</td>\n",
       "      <td>714.000000</td>\n",
       "      <td>714.000000</td>\n",
       "      <td>714.000000</td>\n",
       "      <td>714.000000</td>\n",
       "    </tr>\n",
       "    <tr>\n",
       "      <th>mean</th>\n",
       "      <td>0.406162</td>\n",
       "      <td>2.236695</td>\n",
       "      <td>29.699118</td>\n",
       "      <td>0.512605</td>\n",
       "      <td>0.431373</td>\n",
       "    </tr>\n",
       "    <tr>\n",
       "      <th>std</th>\n",
       "      <td>0.491460</td>\n",
       "      <td>0.838250</td>\n",
       "      <td>14.526497</td>\n",
       "      <td>0.929783</td>\n",
       "      <td>0.853289</td>\n",
       "    </tr>\n",
       "    <tr>\n",
       "      <th>min</th>\n",
       "      <td>0.000000</td>\n",
       "      <td>1.000000</td>\n",
       "      <td>0.420000</td>\n",
       "      <td>0.000000</td>\n",
       "      <td>0.000000</td>\n",
       "    </tr>\n",
       "    <tr>\n",
       "      <th>25%</th>\n",
       "      <td>0.000000</td>\n",
       "      <td>1.000000</td>\n",
       "      <td>20.125000</td>\n",
       "      <td>0.000000</td>\n",
       "      <td>0.000000</td>\n",
       "    </tr>\n",
       "    <tr>\n",
       "      <th>50%</th>\n",
       "      <td>0.000000</td>\n",
       "      <td>2.000000</td>\n",
       "      <td>28.000000</td>\n",
       "      <td>0.000000</td>\n",
       "      <td>0.000000</td>\n",
       "    </tr>\n",
       "    <tr>\n",
       "      <th>75%</th>\n",
       "      <td>1.000000</td>\n",
       "      <td>3.000000</td>\n",
       "      <td>38.000000</td>\n",
       "      <td>1.000000</td>\n",
       "      <td>1.000000</td>\n",
       "    </tr>\n",
       "    <tr>\n",
       "      <th>max</th>\n",
       "      <td>1.000000</td>\n",
       "      <td>3.000000</td>\n",
       "      <td>80.000000</td>\n",
       "      <td>5.000000</td>\n",
       "      <td>6.000000</td>\n",
       "    </tr>\n",
       "  </tbody>\n",
       "</table>\n",
       "</div>"
      ],
      "text/plain": [
       "         Survived      Pclass         Age       SibSp       Parch\n",
       "count  714.000000  714.000000  714.000000  714.000000  714.000000\n",
       "mean     0.406162    2.236695   29.699118    0.512605    0.431373\n",
       "std      0.491460    0.838250   14.526497    0.929783    0.853289\n",
       "min      0.000000    1.000000    0.420000    0.000000    0.000000\n",
       "25%      0.000000    1.000000   20.125000    0.000000    0.000000\n",
       "50%      0.000000    2.000000   28.000000    0.000000    0.000000\n",
       "75%      1.000000    3.000000   38.000000    1.000000    1.000000\n",
       "max      1.000000    3.000000   80.000000    5.000000    6.000000"
      ]
     },
     "execution_count": 79,
     "metadata": {},
     "output_type": "execute_result"
    }
   ],
   "source": [
    "# I have to clean the nan values in Age. Let's be harsh and remove the rows with nan values. \n",
    "df_cleaned = df.dropna(axis = 0, how = \"any\")\n",
    "# Let's check our dataset\n",
    "df_cleaned.describe()"
   ]
  },
  {
   "cell_type": "code",
   "execution_count": 136,
   "metadata": {
    "collapsed": true
   },
   "outputs": [],
   "source": [
    "# Finally, we have one categorical class that we have to transform\n",
    "df_cleaned = pd.get_dummies(df_cleaned)"
   ]
  },
  {
   "cell_type": "code",
   "execution_count": 138,
   "metadata": {},
   "outputs": [
    {
     "data": {
      "text/html": [
       "<div>\n",
       "<style>\n",
       "    .dataframe thead tr:only-child th {\n",
       "        text-align: right;\n",
       "    }\n",
       "\n",
       "    .dataframe thead th {\n",
       "        text-align: left;\n",
       "    }\n",
       "\n",
       "    .dataframe tbody tr th {\n",
       "        vertical-align: top;\n",
       "    }\n",
       "</style>\n",
       "<table border=\"1\" class=\"dataframe\">\n",
       "  <thead>\n",
       "    <tr style=\"text-align: right;\">\n",
       "      <th></th>\n",
       "      <th>Survived</th>\n",
       "      <th>Pclass</th>\n",
       "      <th>Age</th>\n",
       "      <th>SibSp</th>\n",
       "      <th>Parch</th>\n",
       "      <th>Sex_female</th>\n",
       "      <th>Sex_male</th>\n",
       "    </tr>\n",
       "  </thead>\n",
       "  <tbody>\n",
       "    <tr>\n",
       "      <th>0</th>\n",
       "      <td>0</td>\n",
       "      <td>3</td>\n",
       "      <td>22.0</td>\n",
       "      <td>1</td>\n",
       "      <td>0</td>\n",
       "      <td>0</td>\n",
       "      <td>1</td>\n",
       "    </tr>\n",
       "    <tr>\n",
       "      <th>1</th>\n",
       "      <td>1</td>\n",
       "      <td>1</td>\n",
       "      <td>38.0</td>\n",
       "      <td>1</td>\n",
       "      <td>0</td>\n",
       "      <td>1</td>\n",
       "      <td>0</td>\n",
       "    </tr>\n",
       "    <tr>\n",
       "      <th>2</th>\n",
       "      <td>1</td>\n",
       "      <td>3</td>\n",
       "      <td>26.0</td>\n",
       "      <td>0</td>\n",
       "      <td>0</td>\n",
       "      <td>1</td>\n",
       "      <td>0</td>\n",
       "    </tr>\n",
       "    <tr>\n",
       "      <th>3</th>\n",
       "      <td>1</td>\n",
       "      <td>1</td>\n",
       "      <td>35.0</td>\n",
       "      <td>1</td>\n",
       "      <td>0</td>\n",
       "      <td>1</td>\n",
       "      <td>0</td>\n",
       "    </tr>\n",
       "    <tr>\n",
       "      <th>4</th>\n",
       "      <td>0</td>\n",
       "      <td>3</td>\n",
       "      <td>35.0</td>\n",
       "      <td>0</td>\n",
       "      <td>0</td>\n",
       "      <td>0</td>\n",
       "      <td>1</td>\n",
       "    </tr>\n",
       "  </tbody>\n",
       "</table>\n",
       "</div>"
      ],
      "text/plain": [
       "   Survived  Pclass   Age  SibSp  Parch  Sex_female  Sex_male\n",
       "0         0       3  22.0      1      0           0         1\n",
       "1         1       1  38.0      1      0           1         0\n",
       "2         1       3  26.0      0      0           1         0\n",
       "3         1       1  35.0      1      0           1         0\n",
       "4         0       3  35.0      0      0           0         1"
      ]
     },
     "execution_count": 138,
     "metadata": {},
     "output_type": "execute_result"
    }
   ],
   "source": [
    "df_cleaned.head()"
   ]
  },
  {
   "cell_type": "markdown",
   "metadata": {},
   "source": [
    "## 3. Data Exploration\n",
    "Nice! Let's explore our data in order to build intuitions and find patterns. <br>\n",
    "Now, we can start answering our questions.\n",
    "<br> <br>\n",
    "<br> <b> Pclass </b> <br>\n",
    "1. What is the ratio of people that survived and belonged to the first class?\n",
    "2. What is the ratio of people that survived and belonged to the second class?\n",
    "3. What is the ration of people that belong to the first class compared with the others?\n",
    "4. Did second class people have more chance than third class people?\n",
    "<br> <b> Age </b> <br>\n",
    "1. What is the distribution between Age and Survived? (Positive, Negative or no correlation?)\n",
    "2. Are there any specific ages that denote more chance of survival?\n",
    "3. What is the class with the most children (Age < 18)?\n",
    "<br> <b> Sex </b> <br>\n",
    "1. How does the distribution of sex and Survived look like?\n",
    "2. Does sex influence the chance of survival?\n",
    "3. What was the ratio of woman/man?\n",
    "<br> <b> SibSp </b> <br>\n",
    "1. How does the distribution of SibSp vs Survive look like?\n",
    "2. The higher the SibSp ratio, the more chance of survival?\n",
    "3. What is the relation of this variable vs Parch?\n",
    "4. Which denote more chance of survival SibSp or Parch?\n",
    "<br> <b> Parch </b> <br>\n",
    "1. How does the distribution of Parch vs Survive look like?\n",
    "2. The higher the Parch ratio, the more chance of survival?\n",
    "3. What is the relation of this variable vs SibSp?\n",
    "4. Which denote more chance of survival SibSp or Parch?\n",
    "<br> <br>"
   ]
  },
  {
   "cell_type": "markdown",
   "metadata": {},
   "source": [
    "### Survived vs Pclass"
   ]
  },
  {
   "cell_type": "code",
   "execution_count": 139,
   "metadata": {},
   "outputs": [
    {
     "name": "stdout",
     "output_type": "stream",
     "text": [
      "Total number of samples: 714\n",
      "\n",
      "First class and survived: 122 :: percentage 65.59139784946237\n",
      "First class and not survived: 64 :: percentage 34.40860215053763\n",
      "\n",
      "Second class and survived: 83 :: percentage 47.97687861271676\n",
      "Second class and not survived: 90 :: percentage 52.02312138728324\n",
      "\n",
      "Third class and survived: 85 :: percentage 23.943661971830984\n",
      "Third class and not survived: 270 :: percentage 76.05633802816902\n"
     ]
    }
   ],
   "source": [
    "# First class\n",
    "first_class_and_survived = df_cleaned.query(\"Pclass == 1 and Survived == 1\").shape[0]\n",
    "first_class_and_not_survived = df_cleaned.query(\"Pclass == 1 and Survived == 0\").shape[0]\n",
    "p_f_s = (first_class_and_survived / (first_class_and_survived + first_class_and_not_survived)) * 100\n",
    "p_f_n_s = 100 - p_f_s\n",
    "\n",
    "# Second class\n",
    "second_class_and_survived = df_cleaned.query(\"Pclass == 2 and Survived == 1\").shape[0]\n",
    "second_class_and_not_survived = df_cleaned.query(\"Pclass == 2 and Survived == 0\").shape[0]\n",
    "p_s_s = (second_class_and_survived / (second_class_and_survived + second_class_and_not_survived)) * 100\n",
    "p_s_n_s = 100 - p_s_s\n",
    "\n",
    "# Third class\n",
    "third_class_and_survived = df_cleaned.query(\"Pclass == 3 and Survived == 1\").shape[0]\n",
    "third_class_and_not_survived = df_cleaned.query(\"Pclass == 3 and Survived == 0\").shape[0]\n",
    "p_t_s = (third_class_and_survived / (third_class_and_survived + third_class_and_not_survived)) * 100\n",
    "p_t_n_s = 100 - p_t_s\n",
    "\n",
    "print(\"Total number of samples: {}\".format(df_cleaned.shape[0]))\n",
    "print(\"\\nFirst class and survived: {} :: percentage {}\".format(first_class_and_survived, p_f_s))\n",
    "print(\"First class and not survived: {} :: percentage {}\".format(first_class_and_not_survived, p_f_n_s))\n",
    "\n",
    "print(\"\\nSecond class and survived: {} :: percentage {}\".format(second_class_and_survived, p_s_s))\n",
    "print(\"Second class and not survived: {} :: percentage {}\".format(second_class_and_not_survived, p_s_n_s))\n",
    "\n",
    "print(\"\\nThird class and survived: {} :: percentage {}\".format(third_class_and_survived, p_t_s))\n",
    "print(\"Third class and not survived: {} :: percentage {}\".format(third_class_and_not_survived, p_t_n_s))"
   ]
  },
  {
   "cell_type": "markdown",
   "metadata": {},
   "source": [
    "1. What is the ratio of people that survived and belonged to the first class against the people that did not survive and also belonged to the first class?<br>\n",
    "A/ The ratio is 1.90\n",
    "2. What is the ratio of people that survived and belonged to the second class against the people that did not survive and also belonged to the second class?<br>\n",
    "A/ The ratio is 0.92\n",
    "3. What is the ratio of people that survived and belonged to the third class against the people that did not survive and also belonged to the third class?<br>\n",
    "A/ The ratio is 0.44\n",
    "4. Did first class people have more chance of survival against the other classes?<br>\n",
    "A/ Yes. The 1.90 indicates a strong chance of survival against the 0.92 and 0.44 of the other classes. In fact, the ratio for the other classes was lower than 1. Which means, these classes had less chance of survival. \n",
    "5. Did the second class people have more chance of survival than third class people?<br>\n",
    "A/ Yes, the second class people had more chance. \n",
    "\n",
    "<b>Conclusions</b> <br>\n",
    "The higuer the class, the more chance of survival."
   ]
  },
  {
   "cell_type": "markdown",
   "metadata": {},
   "source": [
    "### Age vs Survived "
   ]
  },
  {
   "cell_type": "code",
   "execution_count": 140,
   "metadata": {},
   "outputs": [
    {
     "data": {
      "image/png": "[encoded data removed]",
      "text/plain": [
       "<matplotlib.figure.Figure at 0x1d83dd61518>"
      ]
     },
     "metadata": {},
     "output_type": "display_data"
    }
   ],
   "source": [
    "#Plot Survived vs Pclass\n",
    "x_name = \"Survived\"\n",
    "y_name = \"Age\"\n",
    "plt.scatter(df_cleaned[x_name], df_cleaned[y_name])\n",
    "plt.title(\"{} vs {}\".format(y_name, x_name))\n",
    "plt.xlabel(x_name)\n",
    "plt.ylabel(y_name)\n",
    "plt.show()"
   ]
  },
  {
   "cell_type": "code",
   "execution_count": 141,
   "metadata": {},
   "outputs": [
    {
     "name": "stdout",
     "output_type": "stream",
     "text": [
      "Amount of people that survived: 290, \n",
      "mean: 28.343689655172415, \n",
      "std: 14.950951984140426\n",
      "\n",
      "Amount of people that did not survive: 424, \n",
      "mean: 30.62617924528302, \n",
      "std: 14.17210987713849\n"
     ]
    }
   ],
   "source": [
    "age_survived = df_cleaned.query(\"Survived == 1 and Age >= 0\")\n",
    "age_not_survived = df_cleaned.query(\"Survived == 0 and Age >= 0\")\n",
    "\n",
    "mean_age_survived = age_survived.mean()\n",
    "mean_age_not_survived = age_not_survived.mean()\n",
    "\n",
    "std_age_survived = age_survived.std()\n",
    "std_age_not_survived = age_not_survived.std()\n",
    "\n",
    "print(\"Amount of people that survived: {}, \\nmean: {}, \\nstd: {}\".format(age_survived.shape[0], mean_age_survived[\"Age\"], std_age_survived[\"Age\"]))\n",
    "print(\"\\nAmount of people that did not survive: {}, \\nmean: {}, \\nstd: {}\".format(age_not_survived.shape[0], mean_age_not_survived[\"Age\"], std_age_not_survived[\"Age\"]))"
   ]
  },
  {
   "cell_type": "markdown",
   "metadata": {},
   "source": [
    "1. What is the distribution between Age and Survived?<br>\n",
    "A/ In the scatter plot, we can see that the people that survived have a more compact age distribution than the people that did not survive. The standard deviations seem equal, I thought the people that survived were going to have a smaller std value. But the outlier is affecting the std and the mean.<br>\n",
    "I will make a box plot and remove the outlier. "
   ]
  },
  {
   "cell_type": "code",
   "execution_count": 142,
   "metadata": {},
   "outputs": [
    {
     "data": {
      "image/png": "[encoded data removed]",
      "text/plain": [
       "<matplotlib.figure.Figure at 0x1d83dd825c0>"
      ]
     },
     "metadata": {},
     "output_type": "display_data"
    }
   ],
   "source": [
    "# Box plot\n",
    "age_survived.boxplot([\"Age\"])\n",
    "plt.show()\n",
    "# There is the outlier"
   ]
  },
  {
   "cell_type": "code",
   "execution_count": 143,
   "metadata": {},
   "outputs": [
    {
     "data": {
      "image/png": "[encoded data removed]",
      "text/plain": [
       "<matplotlib.figure.Figure at 0x1d83de9cc88>"
      ]
     },
     "metadata": {},
     "output_type": "display_data"
    }
   ],
   "source": [
    "# Scatter plot\n",
    "age_survived[\"Age\"].plot()\n",
    "plt.title(\"Age distribution for people that survived\")\n",
    "plt.ylabel(\"Age\")\n",
    "plt.xlabel(\"Number of sample point\")\n",
    "plt.show()"
   ]
  },
  {
   "cell_type": "code",
   "execution_count": 144,
   "metadata": {},
   "outputs": [
    {
     "data": {
      "text/plain": [
       "count    290.000000\n",
       "mean      28.343690\n",
       "std       14.950952\n",
       "min        0.420000\n",
       "25%       19.000000\n",
       "50%       28.000000\n",
       "75%       36.000000\n",
       "max       80.000000\n",
       "Name: Age, dtype: float64"
      ]
     },
     "execution_count": 144,
     "metadata": {},
     "output_type": "execute_result"
    }
   ],
   "source": [
    "age_survived[\"Age\"].describe()"
   ]
  },
  {
   "cell_type": "markdown",
   "metadata": {},
   "source": [
    "The outlier is the 80 value in the distribution as we can see in the boxplot, the scatter plot and computing the range of the distribution. We can use the IQR rule to eliminate outliers"
   ]
  },
  {
   "cell_type": "code",
   "execution_count": 145,
   "metadata": {},
   "outputs": [
    {
     "name": "stdout",
     "output_type": "stream",
     "text": [
      "285\n"
     ]
    },
    {
     "data": {
      "image/png": "[encoded data removed]",
      "text/plain": [
       "<matplotlib.figure.Figure at 0x1d83dc116d8>"
      ]
     },
     "metadata": {},
     "output_type": "display_data"
    }
   ],
   "source": [
    "# Get mean\n",
    "mean_age_survived = age_survived[\"Age\"].mean()\n",
    "# Get quantiles\n",
    "Q1 = age_survived[\"Age\"].quantile(q = 0.25)\n",
    "Q2 = age_survived[\"Age\"].quantile(q = 0.50)\n",
    "Q3 = age_survived[\"Age\"].quantile(q = 0.75)\n",
    "# Inter quantile range\n",
    "IQR = Q3 - Q1\n",
    "# Filter outliers\n",
    "big_outliers = Q3 + IQR*1.5\n",
    "small_outliers = Q1 - IQR*1.5\n",
    "age_survived_removed_outliers = age_survived.query(\"Age > @small_outliers and Age < @big_outliers\")\n",
    "print(age_survived_removed_outliers.shape[0])\n",
    "age_survived_removed_outliers.boxplot([\"Age\"])\n",
    "plt.title(\"Clean of outliers\")\n",
    "plt.show()"
   ]
  },
  {
   "cell_type": "code",
   "execution_count": 146,
   "metadata": {},
   "outputs": [
    {
     "name": "stdout",
     "output_type": "stream",
     "text": [
      "Age people that survived:  27.6830526316 \n",
      "Std people that survived:  14.1844085506\n"
     ]
    }
   ],
   "source": [
    "# Now we can compute the std\n",
    "std_age_survived_removed_outliers = age_survived_removed_outliers.std()\n",
    "mean_age_survived_removed_outliers = age_survived_removed_outliers.mean()\n",
    "print(\"Age people that survived: \", mean_age_survived_removed_outliers[\"Age\"],\\\n",
    "      \"\\nStd people that survived: \", std_age_survived_removed_outliers[\"Age\"])"
   ]
  },
  {
   "cell_type": "markdown",
   "metadata": {},
   "source": [
    "The mean and the standard deviation are slightly smaller, but they denote that the younger the person. \n",
    "The more likely to survive, even for a bit. "
   ]
  },
  {
   "cell_type": "markdown",
   "metadata": {},
   "source": [
    "2. Are there any specific ages that denote more chance of survival? <br>\n",
    "A/ In the previous answer we have seen that if you are younger, you have more chance of survival. Tough there does not seem to be a specific age that would give you a clear advantage of survival. Maybe if we take a look at the Siblings/spouses rate or the Parch rate we can find the confounding variable. <br>"
   ]
  },
  {
   "cell_type": "markdown",
   "metadata": {},
   "source": [
    "3. What is the class with the most children (Age < 18)?"
   ]
  },
  {
   "cell_type": "code",
   "execution_count": 147,
   "metadata": {},
   "outputs": [
    {
     "name": "stdout",
     "output_type": "stream",
     "text": [
      "Rate of children that survived: 1.0144927536231885\n"
     ]
    }
   ],
   "source": [
    "children_age_survived = df_cleaned.query(\"Survived == 1 and Age <= 18\").shape[0]\n",
    "children_age_not_survived = df_cleaned.query(\"Survived == 0 and Age <= 18\").shape[0]\n",
    "print(\"Rate of children that survived: {}\".format(children_age_survived/children_age_not_survived))"
   ]
  },
  {
   "cell_type": "markdown",
   "metadata": {},
   "source": [
    "It seems like being a children did not play a significant role in the chance of survival. The movie is wrong ='( ..."
   ]
  },
  {
   "cell_type": "markdown",
   "metadata": {},
   "source": [
    "## Sex vs Survival\n",
    "1. How does the distribution of sex and Survived look like? Does sex influence the chance of survival?"
   ]
  },
  {
   "cell_type": "code",
   "execution_count": 151,
   "metadata": {},
   "outputs": [
    {
     "name": "stdout",
     "output_type": "stream",
     "text": [
      "Male rate of survival: 0.2052980132450331\n",
      "Female rate of survival: 0.7547892720306514\n"
     ]
    }
   ],
   "source": [
    "male_survived = df_cleaned.query(\"Survived == 1 and Sex_male == 1\").shape[0]\n",
    "male_not_survived = df_cleaned.query(\"Survived == 0 and Sex_male == 1\").shape[0]\n",
    "\n",
    "female_survived = df_cleaned.query(\"Survived == 1 and Sex_female == 1\").shape[0]\n",
    "female_not_survived = df_cleaned.query(\"Survived == 0 and Sex_female == 1\").shape[0]\n",
    "\n",
    "print(\"Male rate of survival: {}\".format(male_survived/(male_survived+male_not_survived)))\n",
    "print(\"Female rate of survival: {}\".format(female_survived/(female_survived+female_not_survived)))"
   ]
  },
  {
   "cell_type": "markdown",
   "metadata": {},
   "source": [
    "We can conclude that if you are male, you have less chance of survival. If you are female, you have more chance of survival. Clearly!"
   ]
  },
  {
   "cell_type": "markdown",
   "metadata": {},
   "source": [
    "<br> <b> SibSp </b> <br>\n",
    "1. How does the distribution of SibSp vs Survive look like?\n",
    "2. The higher the SibSp ratio, the more chance of survival?\n",
    "3. What is the relation of this variable vs Parch?\n",
    "4. Which denote more chance of survival SibSp or Parch?"
   ]
  },
  {
   "cell_type": "code",
   "execution_count": 153,
   "metadata": {},
   "outputs": [
    {
     "data": {
      "image/png": "[encoded data removed]",
      "text/plain": [
       "<matplotlib.figure.Figure at 0x1d83dad2cf8>"
      ]
     },
     "metadata": {},
     "output_type": "display_data"
    }
   ],
   "source": [
    "#sibsp_survived = df_cleaned.query(\"Survived == 1 and SibSp >= 0\").shape[0]\n",
    "#sibsp_not_survived = df_cleaned.query(\"Survived == 0 and SibSp >= 0\").shape[0]\n",
    "df_cleaned[\"SibSp\"].plot()\n",
    "plt.show()"
   ]
  },
  {
   "cell_type": "code",
   "execution_count": 154,
   "metadata": {},
   "outputs": [
    {
     "data": {
      "image/png": "[encoded data removed]",
      "text/plain": [
       "<matplotlib.figure.Figure at 0x1d83db9d278>"
      ]
     },
     "metadata": {},
     "output_type": "display_data"
    }
   ],
   "source": [
    "#Plot Survived vs SibSp\n",
    "x_name = \"Survived\"\n",
    "y_name = \"SibSp\"\n",
    "plt.scatter(df_cleaned[x_name], df_cleaned[y_name])\n",
    "plt.title(\"{} vs {}\".format(y_name, x_name))\n",
    "plt.xlabel(x_name)\n",
    "plt.ylabel(y_name)\n",
    "plt.show()"
   ]
  },
  {
   "cell_type": "code",
   "execution_count": 158,
   "metadata": {},
   "outputs": [
    {
     "data": {
      "image/png": "[encoded data removed]",
      "text/plain": [
       "<matplotlib.figure.Figure at 0x1d83db68588>"
      ]
     },
     "metadata": {},
     "output_type": "display_data"
    }
   ],
   "source": [
    "#Plot Survived vs Pclass\n",
    "x_name = \"SibSp\"\n",
    "y_name = \"Parch\"\n",
    "plt.scatter(df_cleaned[x_name], df_cleaned[y_name])\n",
    "plt.title(\"{} vs {}\".format(y_name, x_name))\n",
    "plt.xlabel(x_name)\n",
    "plt.ylabel(y_name)\n",
    "plt.show()"
   ]
  },
  {
   "cell_type": "markdown",
   "metadata": {},
   "source": [
    "<br> <b> Parch </b> <br>\n",
    "1. How does the distribution of Parch vs Survive look like?\n",
    "2. The higher the Parch ratio, the more chance of survival?\n",
    "3. What is the relation of this variable vs SibSp?\n",
    "4. Which denote more chance of survival SibSp or Parch?\n",
    "<br> <br>"
   ]
  },
  {
   "cell_type": "code",
   "execution_count": 155,
   "metadata": {},
   "outputs": [
    {
     "data": {
      "image/png": "[encoded data removed]",
      "text/plain": [
       "<matplotlib.figure.Figure at 0x1d83dd1c668>"
      ]
     },
     "metadata": {},
     "output_type": "display_data"
    }
   ],
   "source": [
    "#Plot Survived vs Pclass\n",
    "x_name = \"Survived\"\n",
    "y_name = \"Parch\"\n",
    "plt.scatter(df_cleaned[x_name], df_cleaned[y_name])\n",
    "plt.title(\"{} vs {}\".format(y_name, x_name))\n",
    "plt.xlabel(x_name)\n",
    "plt.ylabel(y_name)\n",
    "plt.show()"
   ]
  },
  {
   "cell_type": "code",
   "execution_count": 157,
   "metadata": {},
   "outputs": [
    {
     "data": {
      "image/png": "[encoded data removed]",
      "text/plain": [
       "<matplotlib.figure.Figure at 0x1d83db2a198>"
      ]
     },
     "metadata": {},
     "output_type": "display_data"
    }
   ],
   "source": [
    "#Plot Survived vs Pclass\n",
    "x_name = \"SibSp\"\n",
    "y_name = \"Parch\"\n",
    "plt.scatter(df_cleaned[x_name], df_cleaned[y_name])\n",
    "plt.title(\"{} vs {}\".format(y_name, x_name))\n",
    "plt.xlabel(x_name)\n",
    "plt.ylabel(y_name)\n",
    "plt.show()"
   ]
  },
  {
   "cell_type": "markdown",
   "metadata": {},
   "source": [
    "There is no correlation for the Parch or ghte SibSp features. There is the same chance of survival for the same values the variables takes. "
   ]
  },
  {
   "cell_type": "markdown",
   "metadata": {},
   "source": [
    "## 4. Prediction\n",
    "We are done with the analysis. Let's drop the features we have decided not to use and fit a logistic regression. "
   ]
  },
  {
   "cell_type": "code",
   "execution_count": 243,
   "metadata": {
    "collapsed": true
   },
   "outputs": [],
   "source": [
    "df_data_analysis_cleaned = df_cleaned#.drop([\"\"], axis = 1)"
   ]
  },
  {
   "cell_type": "code",
   "execution_count": 244,
   "metadata": {},
   "outputs": [
    {
     "data": {
      "text/html": [
       "<div>\n",
       "<style>\n",
       "    .dataframe thead tr:only-child th {\n",
       "        text-align: right;\n",
       "    }\n",
       "\n",
       "    .dataframe thead th {\n",
       "        text-align: left;\n",
       "    }\n",
       "\n",
       "    .dataframe tbody tr th {\n",
       "        vertical-align: top;\n",
       "    }\n",
       "</style>\n",
       "<table border=\"1\" class=\"dataframe\">\n",
       "  <thead>\n",
       "    <tr style=\"text-align: right;\">\n",
       "      <th></th>\n",
       "      <th>Survived</th>\n",
       "      <th>Pclass</th>\n",
       "      <th>Age</th>\n",
       "      <th>SibSp</th>\n",
       "      <th>Parch</th>\n",
       "      <th>Sex_female</th>\n",
       "      <th>Sex_male</th>\n",
       "    </tr>\n",
       "  </thead>\n",
       "  <tbody>\n",
       "    <tr>\n",
       "      <th>0</th>\n",
       "      <td>0</td>\n",
       "      <td>3</td>\n",
       "      <td>22.0</td>\n",
       "      <td>1</td>\n",
       "      <td>0</td>\n",
       "      <td>0</td>\n",
       "      <td>1</td>\n",
       "    </tr>\n",
       "    <tr>\n",
       "      <th>1</th>\n",
       "      <td>1</td>\n",
       "      <td>1</td>\n",
       "      <td>38.0</td>\n",
       "      <td>1</td>\n",
       "      <td>0</td>\n",
       "      <td>1</td>\n",
       "      <td>0</td>\n",
       "    </tr>\n",
       "    <tr>\n",
       "      <th>2</th>\n",
       "      <td>1</td>\n",
       "      <td>3</td>\n",
       "      <td>26.0</td>\n",
       "      <td>0</td>\n",
       "      <td>0</td>\n",
       "      <td>1</td>\n",
       "      <td>0</td>\n",
       "    </tr>\n",
       "    <tr>\n",
       "      <th>3</th>\n",
       "      <td>1</td>\n",
       "      <td>1</td>\n",
       "      <td>35.0</td>\n",
       "      <td>1</td>\n",
       "      <td>0</td>\n",
       "      <td>1</td>\n",
       "      <td>0</td>\n",
       "    </tr>\n",
       "    <tr>\n",
       "      <th>4</th>\n",
       "      <td>0</td>\n",
       "      <td>3</td>\n",
       "      <td>35.0</td>\n",
       "      <td>0</td>\n",
       "      <td>0</td>\n",
       "      <td>0</td>\n",
       "      <td>1</td>\n",
       "    </tr>\n",
       "  </tbody>\n",
       "</table>\n",
       "</div>"
      ],
      "text/plain": [
       "   Survived  Pclass   Age  SibSp  Parch  Sex_female  Sex_male\n",
       "0         0       3  22.0      1      0           0         1\n",
       "1         1       1  38.0      1      0           1         0\n",
       "2         1       3  26.0      0      0           1         0\n",
       "3         1       1  35.0      1      0           1         0\n",
       "4         0       3  35.0      0      0           0         1"
      ]
     },
     "execution_count": 244,
     "metadata": {},
     "output_type": "execute_result"
    }
   ],
   "source": [
    "df_data_analysis_cleaned.head()"
   ]
  },
  {
   "cell_type": "code",
   "execution_count": 245,
   "metadata": {
    "collapsed": true
   },
   "outputs": [],
   "source": [
    "y = np.array(df_data_analysis_cleaned[\"Survived\"])\n",
    "x = np.array(df_data_analysis_cleaned.drop([\"Survived\"], axis = 1))"
   ]
  },
  {
   "cell_type": "code",
   "execution_count": 246,
   "metadata": {
    "collapsed": true
   },
   "outputs": [],
   "source": [
    "#clf = LogisticRegression(fit_intercept = False)\n",
    "#clf.fit(x, y)\n",
    "from sklearn import tree\n",
    "clf = tree.DecisionTreeClassifier()\n",
    "clf = clf.fit(x, y)"
   ]
  },
  {
   "cell_type": "code",
   "execution_count": 247,
   "metadata": {},
   "outputs": [
    {
     "data": {
      "text/plain": [
       "0.9327731092436975"
      ]
     },
     "execution_count": 247,
     "metadata": {},
     "output_type": "execute_result"
    }
   ],
   "source": [
    "clf.score(x, y)"
   ]
  },
  {
   "cell_type": "code",
   "execution_count": 248,
   "metadata": {
    "collapsed": true
   },
   "outputs": [],
   "source": [
    "from sklearn.ensemble import RandomForestClassifier\n",
    "clf = RandomForestClassifier(n_estimators=10)\n",
    "clf = clf.fit(x, y)"
   ]
  },
  {
   "cell_type": "code",
   "execution_count": 249,
   "metadata": {},
   "outputs": [
    {
     "data": {
      "text/plain": [
       "0.92296918767507008"
      ]
     },
     "execution_count": 249,
     "metadata": {},
     "output_type": "execute_result"
    }
   ],
   "source": [
    "clf.score(x, y)"
   ]
  },
  {
   "cell_type": "markdown",
   "metadata": {},
   "source": [
    "## Submission"
   ]
  },
  {
   "cell_type": "code",
   "execution_count": 250,
   "metadata": {
    "collapsed": true
   },
   "outputs": [],
   "source": [
    "df_test = pd.read_csv(\"test.csv\")\n",
    "Ids = df_test[\"PassengerId\"]\n",
    "df_test = df_test.drop([\"PassengerId\", \"Name\", \"Ticket\", \"Fare\", \"Cabin\", \"Embarked\"], axis = 1)"
   ]
  },
  {
   "cell_type": "code",
   "execution_count": 251,
   "metadata": {},
   "outputs": [
    {
     "data": {
      "text/html": [
       "<div>\n",
       "<style>\n",
       "    .dataframe thead tr:only-child th {\n",
       "        text-align: right;\n",
       "    }\n",
       "\n",
       "    .dataframe thead th {\n",
       "        text-align: left;\n",
       "    }\n",
       "\n",
       "    .dataframe tbody tr th {\n",
       "        vertical-align: top;\n",
       "    }\n",
       "</style>\n",
       "<table border=\"1\" class=\"dataframe\">\n",
       "  <thead>\n",
       "    <tr style=\"text-align: right;\">\n",
       "      <th></th>\n",
       "      <th>Pclass</th>\n",
       "      <th>Age</th>\n",
       "      <th>SibSp</th>\n",
       "      <th>Parch</th>\n",
       "      <th>Sex_female</th>\n",
       "      <th>Sex_male</th>\n",
       "    </tr>\n",
       "  </thead>\n",
       "  <tbody>\n",
       "    <tr>\n",
       "      <th>0</th>\n",
       "      <td>3</td>\n",
       "      <td>34.5</td>\n",
       "      <td>0</td>\n",
       "      <td>0</td>\n",
       "      <td>0</td>\n",
       "      <td>1</td>\n",
       "    </tr>\n",
       "    <tr>\n",
       "      <th>1</th>\n",
       "      <td>3</td>\n",
       "      <td>47.0</td>\n",
       "      <td>1</td>\n",
       "      <td>0</td>\n",
       "      <td>1</td>\n",
       "      <td>0</td>\n",
       "    </tr>\n",
       "    <tr>\n",
       "      <th>2</th>\n",
       "      <td>2</td>\n",
       "      <td>62.0</td>\n",
       "      <td>0</td>\n",
       "      <td>0</td>\n",
       "      <td>0</td>\n",
       "      <td>1</td>\n",
       "    </tr>\n",
       "    <tr>\n",
       "      <th>3</th>\n",
       "      <td>3</td>\n",
       "      <td>27.0</td>\n",
       "      <td>0</td>\n",
       "      <td>0</td>\n",
       "      <td>0</td>\n",
       "      <td>1</td>\n",
       "    </tr>\n",
       "    <tr>\n",
       "      <th>4</th>\n",
       "      <td>3</td>\n",
       "      <td>22.0</td>\n",
       "      <td>1</td>\n",
       "      <td>1</td>\n",
       "      <td>1</td>\n",
       "      <td>0</td>\n",
       "    </tr>\n",
       "  </tbody>\n",
       "</table>\n",
       "</div>"
      ],
      "text/plain": [
       "   Pclass   Age  SibSp  Parch  Sex_female  Sex_male\n",
       "0       3  34.5      0      0           0         1\n",
       "1       3  47.0      1      0           1         0\n",
       "2       2  62.0      0      0           0         1\n",
       "3       3  27.0      0      0           0         1\n",
       "4       3  22.0      1      1           1         0"
      ]
     },
     "execution_count": 251,
     "metadata": {},
     "output_type": "execute_result"
    }
   ],
   "source": [
    "df_test = pd.get_dummies(df_test)\n",
    "df_test.head()"
   ]
  },
  {
   "cell_type": "code",
   "execution_count": 252,
   "metadata": {
    "collapsed": true
   },
   "outputs": [],
   "source": [
    "df_test.isnull().sum()\n",
    "df_test = df_test.fillna(value = df_test[\"Age\"].mean(), axis = 0)"
   ]
  },
  {
   "cell_type": "code",
   "execution_count": 253,
   "metadata": {},
   "outputs": [
    {
     "name": "stdout",
     "output_type": "stream",
     "text": [
      "(418, 6) (418,)\n"
     ]
    }
   ],
   "source": [
    "ids = np.array(Ids)\n",
    "x = np.array(df_test)\n",
    "print(x.shape, ids.shape)"
   ]
  },
  {
   "cell_type": "code",
   "execution_count": 254,
   "metadata": {},
   "outputs": [
    {
     "name": "stdout",
     "output_type": "stream",
     "text": [
      "[(892, 0), (893, 0), (894, 0), (895, 1), (896, 0), (897, 0), (898, 0), (899, 0), (900, 1), (901, 0), (902, 0), (903, 0), (904, 1), (905, 0), (906, 1), (907, 1), (908, 0), (909, 0), (910, 0), (911, 0), (912, 0), (913, 1), (914, 1), (915, 0), (916, 1), (917, 0), (918, 1), (919, 0), (920, 0), (921, 0), (922, 0), (923, 0), (924, 0), (925, 0), (926, 0), (927, 0), (928, 0), (929, 0), (930, 0), (931, 0), (932, 0), (933, 0), (934, 0), (935, 1), (936, 1), (937, 0), (938, 0), (939, 0), (940, 1), (941, 0), (942, 1), (943, 0), (944, 1), (945, 1), (946, 0), (947, 0), (948, 0), (949, 0), (950, 0), (951, 1), (952, 0), (953, 0), (954, 0), (955, 1), (956, 1), (957, 1), (958, 1), (959, 0), (960, 0), (961, 1), (962, 0), (963, 0), (964, 0), (965, 1), (966, 1), (967, 1), (968, 0), (969, 1), (970, 0), (971, 0), (972, 1), (973, 0), (974, 1), (975, 0), (976, 0), (977, 0), (978, 1), (979, 1), (980, 0), (981, 1), (982, 0), (983, 0), (984, 0), (985, 0), (986, 0), (987, 0), (988, 1), (989, 0), (990, 0), (991, 0), (992, 1), (993, 0), (994, 0), (995, 0), (996, 0), (997, 0), (998, 0), (999, 0), (1000, 0), (1001, 0), (1002, 0), (1003, 0), (1004, 1), (1005, 1), (1006, 1), (1007, 0), (1008, 0), (1009, 1), (1010, 1), (1011, 1), (1012, 1), (1013, 0), (1014, 1), (1015, 0), (1016, 0), (1017, 0), (1018, 0), (1019, 0), (1020, 0), (1021, 0), (1022, 1), (1023, 1), (1024, 0), (1025, 0), (1026, 0), (1027, 0), (1028, 0), (1029, 0), (1030, 1), (1031, 0), (1032, 0), (1033, 1), (1034, 1), (1035, 0), (1036, 1), (1037, 0), (1038, 0), (1039, 0), (1040, 0), (1041, 0), (1042, 1), (1043, 0), (1044, 0), (1045, 0), (1046, 0), (1047, 0), (1048, 1), (1049, 1), (1050, 1), (1051, 1), (1052, 0), (1053, 1), (1054, 1), (1055, 0), (1056, 0), (1057, 0), (1058, 1), (1059, 0), (1060, 1), (1061, 1), (1062, 0), (1063, 1), (1064, 0), (1065, 0), (1066, 0), (1067, 1), (1068, 1), (1069, 0), (1070, 1), (1071, 1), (1072, 0), (1073, 0), (1074, 1), (1075, 0), (1076, 1), (1077, 0), (1078, 1), (1079, 0), (1080, 0), (1081, 0), (1082, 0), (1083, 0), (1084, 1), (1085, 0), (1086, 1), (1087, 0), (1088, 1), (1089, 1), (1090, 0), (1091, 0), (1092, 0), (1093, 1), (1094, 0), (1095, 1), (1096, 0), (1097, 0), (1098, 0), (1099, 0), (1100, 1), (1101, 0), (1102, 1), (1103, 0), (1104, 0), (1105, 1), (1106, 1), (1107, 1), (1108, 0), (1109, 0), (1110, 1), (1111, 0), (1112, 1), (1113, 0), (1114, 1), (1115, 0), (1116, 0), (1117, 1), (1118, 0), (1119, 0), (1120, 0), (1121, 0), (1122, 0), (1123, 1), (1124, 0), (1125, 0), (1126, 1), (1127, 0), (1128, 0), (1129, 0), (1130, 1), (1131, 1), (1132, 1), (1133, 1), (1134, 0), (1135, 0), (1136, 0), (1137, 0), (1138, 1), (1139, 0), (1140, 1), (1141, 0), (1142, 1), (1143, 0), (1144, 1), (1145, 0), (1146, 0), (1147, 0), (1148, 0), (1149, 0), (1150, 1), (1151, 0), (1152, 0), (1153, 0), (1154, 1), (1155, 1), (1156, 0), (1157, 0), (1158, 0), (1159, 0), (1160, 0), (1161, 0), (1162, 0), (1163, 0), (1164, 1), (1165, 0), (1166, 0), (1167, 1), (1168, 0), (1169, 0), (1170, 0), (1171, 0), (1172, 1), (1173, 1), (1174, 0), (1175, 0), (1176, 1), (1177, 0), (1178, 0), (1179, 1), (1180, 0), (1181, 0), (1182, 0), (1183, 0), (1184, 0), (1185, 0), (1186, 0), (1187, 0), (1188, 1), (1189, 0), (1190, 0), (1191, 0), (1192, 1), (1193, 0), (1194, 0), (1195, 0), (1196, 0), (1197, 1), (1198, 1), (1199, 1), (1200, 0), (1201, 0), (1202, 0), (1203, 0), (1204, 0), (1205, 0), (1206, 1), (1207, 0), (1208, 0), (1209, 0), (1210, 1), (1211, 0), (1212, 0), (1213, 0), (1214, 0), (1215, 0), (1216, 1), (1217, 0), (1218, 1), (1219, 0), (1220, 0), (1221, 0), (1222, 1), (1223, 0), (1224, 0), (1225, 0), (1226, 1), (1227, 0), (1228, 0), (1229, 0), (1230, 0), (1231, 0), (1232, 0), (1233, 1), (1234, 0), (1235, 1), (1236, 0), (1237, 1), (1238, 0), (1239, 0), (1240, 0), (1241, 1), (1242, 1), (1243, 0), (1244, 0), (1245, 0), (1246, 1), (1247, 1), (1248, 1), (1249, 0), (1250, 0), (1251, 0), (1252, 0), (1253, 1), (1254, 1), (1255, 1), (1256, 1), (1257, 0), (1258, 0), (1259, 1), (1260, 1), (1261, 0), (1262, 0), (1263, 1), (1264, 1), (1265, 0), (1266, 1), (1267, 1), (1268, 0), (1269, 0), (1270, 0), (1271, 0), (1272, 0), (1273, 0), (1274, 0), (1275, 0), (1276, 0), (1277, 1), (1278, 0), (1279, 0), (1280, 0), (1281, 0), (1282, 0), (1283, 1), (1284, 1), (1285, 0), (1286, 0), (1287, 1), (1288, 0), (1289, 1), (1290, 0), (1291, 0), (1292, 1), (1293, 0), (1294, 1), (1295, 0), (1296, 0), (1297, 0), (1298, 0), (1299, 0), (1300, 0), (1301, 1), (1302, 0), (1303, 1), (1304, 0), (1305, 0), (1306, 1), (1307, 0), (1308, 0), (1309, 0)]\n"
     ]
    }
   ],
   "source": [
    "file = open(\"submission.csv\", \"w\")\n",
    "file.write(\"PassengerId,Survived\\n\")\n",
    "result_survive = []\n",
    "for i in range(x.shape[0]):\n",
    "    p = clf.predict(x[i, :].reshape(1, -1))\n",
    "    result_survive.append((ids[i], p[0]))\n",
    "    file.write(str(ids[i]) + \",\" + str(p[0])+\"\\n\")\n",
    "print(result_survive)\n",
    "file.close()"
   ]
  },
  {
   "cell_type": "code",
   "execution_count": null,
   "metadata": {
    "collapsed": true
   },
   "outputs": [],
   "source": []
  }
 ],
 "metadata": {
  "kernelspec": {
   "display_name": "Python 3",
   "language": "python",
   "name": "python3"
  },
  "language_info": {
   "codemirror_mode": {
    "name": "ipython",
    "version": 3
   },
   "file_extension": ".py",
   "mimetype": "text/x-python",
   "name": "python",
   "nbconvert_exporter": "python",
   "pygments_lexer": "ipython3",
   "version": "3.5.3"
  }
 },
 "nbformat": 4,
 "nbformat_minor": 2
}
